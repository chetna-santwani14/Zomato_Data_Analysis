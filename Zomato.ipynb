{
  "nbformat": 4,
  "nbformat_minor": 0,
  "metadata": {
    "colab": {
      "provenance": [],
      "authorship_tag": "ABX9TyO7r3s7xvLrOq7ai0YSAdiG",
      "include_colab_link": true
    },
    "kernelspec": {
      "name": "python3",
      "display_name": "Python 3"
    },
    "language_info": {
      "name": "python"
    }
  },
  "cells": [
    {
      "cell_type": "markdown",
      "metadata": {
        "id": "view-in-github",
        "colab_type": "text"
      },
      "source": [
        "<a href=\"https://colab.research.google.com/github/chetna-santwani14/Zomato_Data_Analysis/blob/main/Zomato.ipynb\" target=\"_parent\"><img src=\"https://colab.research.google.com/assets/colab-badge.svg\" alt=\"Open In Colab\"/></a>"
      ]
    },
    {
      "cell_type": "code",
      "execution_count": 7,
      "metadata": {
        "id": "Tefq-UX_Cevc"
      },
      "outputs": [],
      "source": [
        "import numpy as np\n",
        "import pandas as pd\n",
        "import matplotlib.pyplot as plt\n",
        "import seaborn as sns"
      ]
    },
    {
      "cell_type": "code",
      "source": [
        "from google.colab import drive\n",
        "drive.mount('/content/drive')"
      ],
      "metadata": {
        "colab": {
          "base_uri": "https://localhost:8080/"
        },
        "id": "HlXcs_efCuYi",
        "outputId": "1261e801-6789-419c-9346-6abcd548b2b6"
      },
      "execution_count": 8,
      "outputs": [
        {
          "output_type": "stream",
          "name": "stdout",
          "text": [
            "Drive already mounted at /content/drive; to attempt to forcibly remount, call drive.mount(\"/content/drive\", force_remount=True).\n"
          ]
        }
      ]
    },
    {
      "cell_type": "code",
      "source": [
        "df=pd.read_csv('/content/drive/MyDrive/Python_IITG_2025/Projectss/Zomato_Data_Analysis/zomato.csv')\n",
        "df.sample(4)"
      ],
      "metadata": {
        "colab": {
          "base_uri": "https://localhost:8080/",
          "height": 489
        },
        "id": "RELuYZn_C9Vm",
        "outputId": "8b575d5b-c8ee-44f0-b6e8-763427a9675d"
      },
      "execution_count": 9,
      "outputs": [
        {
          "output_type": "execute_result",
          "data": {
            "text/plain": [
              "                                                     url  \\\n",
              "19135  https://www.zomato.com/bangalore/naachiyars-1-...   \n",
              "27821  https://www.zomato.com/bangalore/naati-biriyan...   \n",
              "37568  https://www.zomato.com/bangalore/sathyas-koram...   \n",
              "44174  https://www.zomato.com/bangalore/tandoori-deli...   \n",
              "\n",
              "                                                 address              name  \\\n",
              "19135  36/1, Ground Floor, Haudin Road, Ulsoor, Banga...       Naachiyar's   \n",
              "27821  Shop 15, Sree Mahadeshwara Plaza, BTM 1st Stag...    Naati Biriyani   \n",
              "37568  147/D, 8th Main Road, 3rd Block, Koramangala 3...          Sathya's   \n",
              "44174  11/1, Opposite RMV Clusters Apartment, Lottego...  Tandoori Delight   \n",
              "\n",
              "      online_order book_table    rate  votes                           phone  \\\n",
              "19135          Yes         No   3.9/5    117  +91 9663909611\\r\\n080 41738588   \n",
              "27821           No         No   3.1/5      4                  +91 9606880622   \n",
              "37568           No        Yes  4.1 /5    759                    080 41317571   \n",
              "44174          Yes         No  3.0 /5     46  +91 9972183512\\n+91 9035612005   \n",
              "\n",
              "                    location      rest_type  \\\n",
              "19135                 Ulsoor  Casual Dining   \n",
              "27821                    BTM    Quick Bites   \n",
              "37568  Koramangala 3rd Block            Bar   \n",
              "44174           New BEL Road    Quick Bites   \n",
              "\n",
              "                                              dish_liked  \\\n",
              "19135    Crab Soup, Raita, Kozhi Biryani, Mutton Biryani   \n",
              "27821                                                NaN   \n",
              "37568  Chicken Tikka, Egg Chilli, Masala Peanuts, Bee...   \n",
              "44174                                                NaN   \n",
              "\n",
              "                    cuisines approx_cost(for two people)  \\\n",
              "19135              Chettinad                         600   \n",
              "27821         Kebab, Biryani                         300   \n",
              "37568  North Indian, Chinese                       1,200   \n",
              "44174  North Indian, Chinese                         300   \n",
              "\n",
              "                                            reviews_list  \\\n",
              "19135  [('Rated 4.0', 'RATED\\n  Well this place has c...   \n",
              "27821                                                 []   \n",
              "37568  [('Rated 4.0', 'RATED\\n  The friendly neighbor...   \n",
              "44174  [('Rated 5.0', 'RATED\\n  The best tandoori chi...   \n",
              "\n",
              "                                               menu_item     listed_in(type)  \\\n",
              "19135  ['Boneless Naachiyars Special', 'Chicken Roast...            Dine-out   \n",
              "27821                                                 []            Delivery   \n",
              "37568                                                 []  Drinks & nightlife   \n",
              "44174  ['Chilli Chicken', 'Chicken Lollipop', 'Chicke...            Delivery   \n",
              "\n",
              "             listed_in(city)  \n",
              "19135            Indiranagar  \n",
              "27821  Koramangala 4th Block  \n",
              "37568  Koramangala 7th Block  \n",
              "44174           New BEL Road  "
            ],
            "text/html": [
              "\n",
              "  <div id=\"df-72339e76-fd15-49aa-a86d-9f34aec61a5a\" class=\"colab-df-container\">\n",
              "    <div>\n",
              "<style scoped>\n",
              "    .dataframe tbody tr th:only-of-type {\n",
              "        vertical-align: middle;\n",
              "    }\n",
              "\n",
              "    .dataframe tbody tr th {\n",
              "        vertical-align: top;\n",
              "    }\n",
              "\n",
              "    .dataframe thead th {\n",
              "        text-align: right;\n",
              "    }\n",
              "</style>\n",
              "<table border=\"1\" class=\"dataframe\">\n",
              "  <thead>\n",
              "    <tr style=\"text-align: right;\">\n",
              "      <th></th>\n",
              "      <th>url</th>\n",
              "      <th>address</th>\n",
              "      <th>name</th>\n",
              "      <th>online_order</th>\n",
              "      <th>book_table</th>\n",
              "      <th>rate</th>\n",
              "      <th>votes</th>\n",
              "      <th>phone</th>\n",
              "      <th>location</th>\n",
              "      <th>rest_type</th>\n",
              "      <th>dish_liked</th>\n",
              "      <th>cuisines</th>\n",
              "      <th>approx_cost(for two people)</th>\n",
              "      <th>reviews_list</th>\n",
              "      <th>menu_item</th>\n",
              "      <th>listed_in(type)</th>\n",
              "      <th>listed_in(city)</th>\n",
              "    </tr>\n",
              "  </thead>\n",
              "  <tbody>\n",
              "    <tr>\n",
              "      <th>19135</th>\n",
              "      <td>https://www.zomato.com/bangalore/naachiyars-1-...</td>\n",
              "      <td>36/1, Ground Floor, Haudin Road, Ulsoor, Banga...</td>\n",
              "      <td>Naachiyar's</td>\n",
              "      <td>Yes</td>\n",
              "      <td>No</td>\n",
              "      <td>3.9/5</td>\n",
              "      <td>117</td>\n",
              "      <td>+91 9663909611\\r\\n080 41738588</td>\n",
              "      <td>Ulsoor</td>\n",
              "      <td>Casual Dining</td>\n",
              "      <td>Crab Soup, Raita, Kozhi Biryani, Mutton Biryani</td>\n",
              "      <td>Chettinad</td>\n",
              "      <td>600</td>\n",
              "      <td>[('Rated 4.0', 'RATED\\n  Well this place has c...</td>\n",
              "      <td>['Boneless Naachiyars Special', 'Chicken Roast...</td>\n",
              "      <td>Dine-out</td>\n",
              "      <td>Indiranagar</td>\n",
              "    </tr>\n",
              "    <tr>\n",
              "      <th>27821</th>\n",
              "      <td>https://www.zomato.com/bangalore/naati-biriyan...</td>\n",
              "      <td>Shop 15, Sree Mahadeshwara Plaza, BTM 1st Stag...</td>\n",
              "      <td>Naati Biriyani</td>\n",
              "      <td>No</td>\n",
              "      <td>No</td>\n",
              "      <td>3.1/5</td>\n",
              "      <td>4</td>\n",
              "      <td>+91 9606880622</td>\n",
              "      <td>BTM</td>\n",
              "      <td>Quick Bites</td>\n",
              "      <td>NaN</td>\n",
              "      <td>Kebab, Biryani</td>\n",
              "      <td>300</td>\n",
              "      <td>[]</td>\n",
              "      <td>[]</td>\n",
              "      <td>Delivery</td>\n",
              "      <td>Koramangala 4th Block</td>\n",
              "    </tr>\n",
              "    <tr>\n",
              "      <th>37568</th>\n",
              "      <td>https://www.zomato.com/bangalore/sathyas-koram...</td>\n",
              "      <td>147/D, 8th Main Road, 3rd Block, Koramangala 3...</td>\n",
              "      <td>Sathya's</td>\n",
              "      <td>No</td>\n",
              "      <td>Yes</td>\n",
              "      <td>4.1 /5</td>\n",
              "      <td>759</td>\n",
              "      <td>080 41317571</td>\n",
              "      <td>Koramangala 3rd Block</td>\n",
              "      <td>Bar</td>\n",
              "      <td>Chicken Tikka, Egg Chilli, Masala Peanuts, Bee...</td>\n",
              "      <td>North Indian, Chinese</td>\n",
              "      <td>1,200</td>\n",
              "      <td>[('Rated 4.0', 'RATED\\n  The friendly neighbor...</td>\n",
              "      <td>[]</td>\n",
              "      <td>Drinks &amp; nightlife</td>\n",
              "      <td>Koramangala 7th Block</td>\n",
              "    </tr>\n",
              "    <tr>\n",
              "      <th>44174</th>\n",
              "      <td>https://www.zomato.com/bangalore/tandoori-deli...</td>\n",
              "      <td>11/1, Opposite RMV Clusters Apartment, Lottego...</td>\n",
              "      <td>Tandoori Delight</td>\n",
              "      <td>Yes</td>\n",
              "      <td>No</td>\n",
              "      <td>3.0 /5</td>\n",
              "      <td>46</td>\n",
              "      <td>+91 9972183512\\n+91 9035612005</td>\n",
              "      <td>New BEL Road</td>\n",
              "      <td>Quick Bites</td>\n",
              "      <td>NaN</td>\n",
              "      <td>North Indian, Chinese</td>\n",
              "      <td>300</td>\n",
              "      <td>[('Rated 5.0', 'RATED\\n  The best tandoori chi...</td>\n",
              "      <td>['Chilli Chicken', 'Chicken Lollipop', 'Chicke...</td>\n",
              "      <td>Delivery</td>\n",
              "      <td>New BEL Road</td>\n",
              "    </tr>\n",
              "  </tbody>\n",
              "</table>\n",
              "</div>\n",
              "    <div class=\"colab-df-buttons\">\n",
              "\n",
              "  <div class=\"colab-df-container\">\n",
              "    <button class=\"colab-df-convert\" onclick=\"convertToInteractive('df-72339e76-fd15-49aa-a86d-9f34aec61a5a')\"\n",
              "            title=\"Convert this dataframe to an interactive table.\"\n",
              "            style=\"display:none;\">\n",
              "\n",
              "  <svg xmlns=\"http://www.w3.org/2000/svg\" height=\"24px\" viewBox=\"0 -960 960 960\">\n",
              "    <path d=\"M120-120v-720h720v720H120Zm60-500h600v-160H180v160Zm220 220h160v-160H400v160Zm0 220h160v-160H400v160ZM180-400h160v-160H180v160Zm440 0h160v-160H620v160ZM180-180h160v-160H180v160Zm440 0h160v-160H620v160Z\"/>\n",
              "  </svg>\n",
              "    </button>\n",
              "\n",
              "  <style>\n",
              "    .colab-df-container {\n",
              "      display:flex;\n",
              "      gap: 12px;\n",
              "    }\n",
              "\n",
              "    .colab-df-convert {\n",
              "      background-color: #E8F0FE;\n",
              "      border: none;\n",
              "      border-radius: 50%;\n",
              "      cursor: pointer;\n",
              "      display: none;\n",
              "      fill: #1967D2;\n",
              "      height: 32px;\n",
              "      padding: 0 0 0 0;\n",
              "      width: 32px;\n",
              "    }\n",
              "\n",
              "    .colab-df-convert:hover {\n",
              "      background-color: #E2EBFA;\n",
              "      box-shadow: 0px 1px 2px rgba(60, 64, 67, 0.3), 0px 1px 3px 1px rgba(60, 64, 67, 0.15);\n",
              "      fill: #174EA6;\n",
              "    }\n",
              "\n",
              "    .colab-df-buttons div {\n",
              "      margin-bottom: 4px;\n",
              "    }\n",
              "\n",
              "    [theme=dark] .colab-df-convert {\n",
              "      background-color: #3B4455;\n",
              "      fill: #D2E3FC;\n",
              "    }\n",
              "\n",
              "    [theme=dark] .colab-df-convert:hover {\n",
              "      background-color: #434B5C;\n",
              "      box-shadow: 0px 1px 3px 1px rgba(0, 0, 0, 0.15);\n",
              "      filter: drop-shadow(0px 1px 2px rgba(0, 0, 0, 0.3));\n",
              "      fill: #FFFFFF;\n",
              "    }\n",
              "  </style>\n",
              "\n",
              "    <script>\n",
              "      const buttonEl =\n",
              "        document.querySelector('#df-72339e76-fd15-49aa-a86d-9f34aec61a5a button.colab-df-convert');\n",
              "      buttonEl.style.display =\n",
              "        google.colab.kernel.accessAllowed ? 'block' : 'none';\n",
              "\n",
              "      async function convertToInteractive(key) {\n",
              "        const element = document.querySelector('#df-72339e76-fd15-49aa-a86d-9f34aec61a5a');\n",
              "        const dataTable =\n",
              "          await google.colab.kernel.invokeFunction('convertToInteractive',\n",
              "                                                    [key], {});\n",
              "        if (!dataTable) return;\n",
              "\n",
              "        const docLinkHtml = 'Like what you see? Visit the ' +\n",
              "          '<a target=\"_blank\" href=https://colab.research.google.com/notebooks/data_table.ipynb>data table notebook</a>'\n",
              "          + ' to learn more about interactive tables.';\n",
              "        element.innerHTML = '';\n",
              "        dataTable['output_type'] = 'display_data';\n",
              "        await google.colab.output.renderOutput(dataTable, element);\n",
              "        const docLink = document.createElement('div');\n",
              "        docLink.innerHTML = docLinkHtml;\n",
              "        element.appendChild(docLink);\n",
              "      }\n",
              "    </script>\n",
              "  </div>\n",
              "\n",
              "\n",
              "    <div id=\"df-aceb44d1-60cf-4750-9669-04b3f7321abc\">\n",
              "      <button class=\"colab-df-quickchart\" onclick=\"quickchart('df-aceb44d1-60cf-4750-9669-04b3f7321abc')\"\n",
              "                title=\"Suggest charts\"\n",
              "                style=\"display:none;\">\n",
              "\n",
              "<svg xmlns=\"http://www.w3.org/2000/svg\" height=\"24px\"viewBox=\"0 0 24 24\"\n",
              "     width=\"24px\">\n",
              "    <g>\n",
              "        <path d=\"M19 3H5c-1.1 0-2 .9-2 2v14c0 1.1.9 2 2 2h14c1.1 0 2-.9 2-2V5c0-1.1-.9-2-2-2zM9 17H7v-7h2v7zm4 0h-2V7h2v10zm4 0h-2v-4h2v4z\"/>\n",
              "    </g>\n",
              "</svg>\n",
              "      </button>\n",
              "\n",
              "<style>\n",
              "  .colab-df-quickchart {\n",
              "      --bg-color: #E8F0FE;\n",
              "      --fill-color: #1967D2;\n",
              "      --hover-bg-color: #E2EBFA;\n",
              "      --hover-fill-color: #174EA6;\n",
              "      --disabled-fill-color: #AAA;\n",
              "      --disabled-bg-color: #DDD;\n",
              "  }\n",
              "\n",
              "  [theme=dark] .colab-df-quickchart {\n",
              "      --bg-color: #3B4455;\n",
              "      --fill-color: #D2E3FC;\n",
              "      --hover-bg-color: #434B5C;\n",
              "      --hover-fill-color: #FFFFFF;\n",
              "      --disabled-bg-color: #3B4455;\n",
              "      --disabled-fill-color: #666;\n",
              "  }\n",
              "\n",
              "  .colab-df-quickchart {\n",
              "    background-color: var(--bg-color);\n",
              "    border: none;\n",
              "    border-radius: 50%;\n",
              "    cursor: pointer;\n",
              "    display: none;\n",
              "    fill: var(--fill-color);\n",
              "    height: 32px;\n",
              "    padding: 0;\n",
              "    width: 32px;\n",
              "  }\n",
              "\n",
              "  .colab-df-quickchart:hover {\n",
              "    background-color: var(--hover-bg-color);\n",
              "    box-shadow: 0 1px 2px rgba(60, 64, 67, 0.3), 0 1px 3px 1px rgba(60, 64, 67, 0.15);\n",
              "    fill: var(--button-hover-fill-color);\n",
              "  }\n",
              "\n",
              "  .colab-df-quickchart-complete:disabled,\n",
              "  .colab-df-quickchart-complete:disabled:hover {\n",
              "    background-color: var(--disabled-bg-color);\n",
              "    fill: var(--disabled-fill-color);\n",
              "    box-shadow: none;\n",
              "  }\n",
              "\n",
              "  .colab-df-spinner {\n",
              "    border: 2px solid var(--fill-color);\n",
              "    border-color: transparent;\n",
              "    border-bottom-color: var(--fill-color);\n",
              "    animation:\n",
              "      spin 1s steps(1) infinite;\n",
              "  }\n",
              "\n",
              "  @keyframes spin {\n",
              "    0% {\n",
              "      border-color: transparent;\n",
              "      border-bottom-color: var(--fill-color);\n",
              "      border-left-color: var(--fill-color);\n",
              "    }\n",
              "    20% {\n",
              "      border-color: transparent;\n",
              "      border-left-color: var(--fill-color);\n",
              "      border-top-color: var(--fill-color);\n",
              "    }\n",
              "    30% {\n",
              "      border-color: transparent;\n",
              "      border-left-color: var(--fill-color);\n",
              "      border-top-color: var(--fill-color);\n",
              "      border-right-color: var(--fill-color);\n",
              "    }\n",
              "    40% {\n",
              "      border-color: transparent;\n",
              "      border-right-color: var(--fill-color);\n",
              "      border-top-color: var(--fill-color);\n",
              "    }\n",
              "    60% {\n",
              "      border-color: transparent;\n",
              "      border-right-color: var(--fill-color);\n",
              "    }\n",
              "    80% {\n",
              "      border-color: transparent;\n",
              "      border-right-color: var(--fill-color);\n",
              "      border-bottom-color: var(--fill-color);\n",
              "    }\n",
              "    90% {\n",
              "      border-color: transparent;\n",
              "      border-bottom-color: var(--fill-color);\n",
              "    }\n",
              "  }\n",
              "</style>\n",
              "\n",
              "      <script>\n",
              "        async function quickchart(key) {\n",
              "          const quickchartButtonEl =\n",
              "            document.querySelector('#' + key + ' button');\n",
              "          quickchartButtonEl.disabled = true;  // To prevent multiple clicks.\n",
              "          quickchartButtonEl.classList.add('colab-df-spinner');\n",
              "          try {\n",
              "            const charts = await google.colab.kernel.invokeFunction(\n",
              "                'suggestCharts', [key], {});\n",
              "          } catch (error) {\n",
              "            console.error('Error during call to suggestCharts:', error);\n",
              "          }\n",
              "          quickchartButtonEl.classList.remove('colab-df-spinner');\n",
              "          quickchartButtonEl.classList.add('colab-df-quickchart-complete');\n",
              "        }\n",
              "        (() => {\n",
              "          let quickchartButtonEl =\n",
              "            document.querySelector('#df-aceb44d1-60cf-4750-9669-04b3f7321abc button');\n",
              "          quickchartButtonEl.style.display =\n",
              "            google.colab.kernel.accessAllowed ? 'block' : 'none';\n",
              "        })();\n",
              "      </script>\n",
              "    </div>\n",
              "\n",
              "    </div>\n",
              "  </div>\n"
            ],
            "application/vnd.google.colaboratory.intrinsic+json": {
              "type": "dataframe",
              "summary": "{\n  \"name\": \"df\",\n  \"rows\": 4,\n  \"fields\": [\n    {\n      \"column\": \"url\",\n      \"properties\": {\n        \"dtype\": \"string\",\n        \"num_unique_values\": 4,\n        \"samples\": [\n          \"https://www.zomato.com/bangalore/naati-biriyani-btm-bangalore?context=eyJzZSI6eyJlIjpbIjE4ODcxMDc5IiwiMTg4ODU2NjAiLCIxODg2ODQ3NSIsIjE4ODU1NTQ5IiwxODc3ODk4NCwiMTg3ODgwMjEiLCIxODgxNDU1NyIsIjU2NTQyIiwiNTU5MTkiLCIxODc4OTgyOCIsIjE4MzA1NjI4IiwiMTg4NjY2NjMiLCIxODc5NzgwNiIsIjE4NTk0OTM3IiwiNTU3MTUiLCI1MDg2MyIsIjUwNTg0Il0sInQiOiJEZWxpdmVyeSBSZXN0YXVyYW50cyBpbiBLb3JhbWFuZ2FsYSA0dGggQmxvY2sifX0=\",\n          \"https://www.zomato.com/bangalore/tandoori-delight-new-bel-road?context=eyJzZSI6eyJlIjpbIjE4NTM0ODgxIiwiNTc2NTgiLCI2MTI4MyIsIjE4NjcyMzY2IiwxODI3MDE4NSwiMTc5NDYwOTciLCIxODUzMDM3NyIsIjE4ODkzNzgzIiwiMTg3ODIzNjIiLCIxODUzMDU1NiIsIjE4NTg4MDg0IiwiMTg1NTYyNzIiLCIxODgwNjU2NyIsIjE4NjgzNjkzIiwiMTg4NzI4ODgiXSwidCI6IkRlbGl2ZXJ5IFJlc3RhdXJhbnRzIGluIE5ldyBCRUwgUm9hZCJ9fQ==\",\n          \"https://www.zomato.com/bangalore/naachiyars-1-ulsoor?context=eyJzZSI6eyJlIjpbIjUwMjIwIiwiNTEwODYiLCI2MDIyOCIsIjUwNDkyIiwxODYwNzY5MCwiMTg2MzA0NDciLCIxODU1NjQ4MSIsIjE4MjQ2NTE4IiwiNTkyMTUiLCIxODYzMjc1NiIsIjE4ODE5OTE4IiwiNTA2OTIiLCI1MDUwMCIsIjUxMTA4IiwiNTY5MTIiXSwidCI6IkRpbmUtT3V0IFJlc3RhdXJhbnRzIGluIEluZGlyYW5hZ2FyIn19\"\n        ],\n        \"semantic_type\": \"\",\n        \"description\": \"\"\n      }\n    },\n    {\n      \"column\": \"address\",\n      \"properties\": {\n        \"dtype\": \"string\",\n        \"num_unique_values\": 4,\n        \"samples\": [\n          \"Shop 15, Sree Mahadeshwara Plaza, BTM 1st Stage, Near Jaibheema Nagar Bus Stop, 60 Feet Road, BTM, Bangalore\",\n          \"11/1, Opposite RMV Clusters Apartment, Lottegollahalli, New BEL Road, Bangalore\",\n          \"36/1, Ground Floor, Haudin Road, Ulsoor, Bangalore\"\n        ],\n        \"semantic_type\": \"\",\n        \"description\": \"\"\n      }\n    },\n    {\n      \"column\": \"name\",\n      \"properties\": {\n        \"dtype\": \"string\",\n        \"num_unique_values\": 4,\n        \"samples\": [\n          \"Naati Biriyani\",\n          \"Tandoori Delight\",\n          \"Naachiyar's\"\n        ],\n        \"semantic_type\": \"\",\n        \"description\": \"\"\n      }\n    },\n    {\n      \"column\": \"online_order\",\n      \"properties\": {\n        \"dtype\": \"string\",\n        \"num_unique_values\": 2,\n        \"samples\": [\n          \"No\",\n          \"Yes\"\n        ],\n        \"semantic_type\": \"\",\n        \"description\": \"\"\n      }\n    },\n    {\n      \"column\": \"book_table\",\n      \"properties\": {\n        \"dtype\": \"string\",\n        \"num_unique_values\": 2,\n        \"samples\": [\n          \"Yes\",\n          \"No\"\n        ],\n        \"semantic_type\": \"\",\n        \"description\": \"\"\n      }\n    },\n    {\n      \"column\": \"rate\",\n      \"properties\": {\n        \"dtype\": \"string\",\n        \"num_unique_values\": 4,\n        \"samples\": [\n          \"3.1/5\",\n          \"3.0 /5\"\n        ],\n        \"semantic_type\": \"\",\n        \"description\": \"\"\n      }\n    },\n    {\n      \"column\": \"votes\",\n      \"properties\": {\n        \"dtype\": \"number\",\n        \"std\": 354,\n        \"min\": 4,\n        \"max\": 759,\n        \"num_unique_values\": 4,\n        \"samples\": [\n          4,\n          46\n        ],\n        \"semantic_type\": \"\",\n        \"description\": \"\"\n      }\n    },\n    {\n      \"column\": \"phone\",\n      \"properties\": {\n        \"dtype\": \"string\",\n        \"num_unique_values\": 4,\n        \"samples\": [\n          \"+91 9606880622\",\n          \"+91 9972183512\\n+91 9035612005\"\n        ],\n        \"semantic_type\": \"\",\n        \"description\": \"\"\n      }\n    },\n    {\n      \"column\": \"location\",\n      \"properties\": {\n        \"dtype\": \"string\",\n        \"num_unique_values\": 4,\n        \"samples\": [\n          \"BTM\",\n          \"New BEL Road\"\n        ],\n        \"semantic_type\": \"\",\n        \"description\": \"\"\n      }\n    },\n    {\n      \"column\": \"rest_type\",\n      \"properties\": {\n        \"dtype\": \"string\",\n        \"num_unique_values\": 3,\n        \"samples\": [\n          \"Casual Dining\",\n          \"Quick Bites\"\n        ],\n        \"semantic_type\": \"\",\n        \"description\": \"\"\n      }\n    },\n    {\n      \"column\": \"dish_liked\",\n      \"properties\": {\n        \"dtype\": \"string\",\n        \"num_unique_values\": 2,\n        \"samples\": [\n          \"Chicken Tikka, Egg Chilli, Masala Peanuts, Beer, Pepper Chicken, Chilli Chicken, Masala Papad\",\n          \"Crab Soup, Raita, Kozhi Biryani, Mutton Biryani\"\n        ],\n        \"semantic_type\": \"\",\n        \"description\": \"\"\n      }\n    },\n    {\n      \"column\": \"cuisines\",\n      \"properties\": {\n        \"dtype\": \"string\",\n        \"num_unique_values\": 3,\n        \"samples\": [\n          \"Chettinad\",\n          \"Kebab, Biryani\"\n        ],\n        \"semantic_type\": \"\",\n        \"description\": \"\"\n      }\n    },\n    {\n      \"column\": \"approx_cost(for two people)\",\n      \"properties\": {\n        \"dtype\": \"string\",\n        \"num_unique_values\": 3,\n        \"samples\": [\n          \"600\",\n          \"300\"\n        ],\n        \"semantic_type\": \"\",\n        \"description\": \"\"\n      }\n    },\n    {\n      \"column\": \"reviews_list\",\n      \"properties\": {\n        \"dtype\": \"string\",\n        \"num_unique_values\": 4,\n        \"samples\": [\n          \"[]\",\n          \"[('Rated 5.0', 'RATED\\\\n  The best tandoori chicken I have ever had. Literally so soft and juicy. Normally tandoori chicken is so dry elsewhere. My only complaint is the packing part. The food was just covered with silver foil that too it was coming out. The food can be easily tampered. Come on you have nearly taken 50 rupees extra charges, you can send the food in tamper proof or sealed container. The taste saved your day as careless packaging would have taken away 2 points out of five. Please improve on packing.'), ('Rated 1.0', 'RATED\\\\n  Very bad, no taste, no quality, disappointed. Not recommended at all. Very bad. Poor quality and not tasty. Don\\u00c3\\u0083\\\\x83\\u00c3\\u0082\\\\x83\\u00c3\\u0083\\\\x82\\u00c3\\u0082\\\\x83\\u00c3\\u0083\\\\x83\\u00c3\\u0082\\\\x82\\u00c3\\u0083\\\\x82\\u00c3\\u0082\\u00c2\\u00a2\\u00c3\\u0083\\\\x83\\u00c3\\u0082\\\\x83\\u00c3\\u0083\\\\x82\\u00c3\\u0082\\\\x82\\u00c3\\u0083\\\\x83\\u00c3\\u0082\\\\x82\\u00c3\\u0083\\\\x82\\u00c3\\u0082\\\\x80\\u00c3\\u0083\\\\x83\\u00c3\\u0082\\\\x83\\u00c3\\u0083\\\\x82\\u00c3\\u0082\\\\x82\\u00c3\\u0083\\\\x83\\u00c3\\u0082\\\\x82\\u00c3\\u0083\\\\x82\\u00c3\\u0082\\\\x99t go for this restaurant. Worst experience'), ('Rated 1.0', 'RATED\\\\n  wrong item'), ('Rated 5.0', 'RATED\\\\n  good food and delivery on time'), ('Rated 2.0', 'RATED\\\\n  \\u00c3\\u0083\\\\x83\\u00c3\\u0082\\\\x83\\u00c3\\u0083\\\\x82\\u00c3\\u0082\\\\x83\\u00c3\\u0083\\\\x83\\u00c3\\u0082\\\\x82\\u00c3\\u0083\\\\x82\\u00c3\\u0082\\\\xa0\\u00c3\\u0083\\\\x83\\u00c3\\u0082\\\\x83\\u00c3\\u0083\\\\x82\\u00c3\\u0082\\\\x82\\u00c3\\u0083\\\\x83\\u00c3\\u0082\\\\x82\\u00c3\\u0083\\\\x82\\u00c3\\u0082\\u00c2\\u00b2\\u00c3\\u0083\\\\x83\\u00c3\\u0082\\\\x83\\u00c3\\u0083\\\\x82\\u00c3\\u0082\\\\x82\\u00c3\\u0083\\\\x83\\u00c3\\u0082\\\\x82\\u00c3\\u0083\\\\x82\\u00c3\\u0082\\\\x87\\u00c3\\u0083\\\\x83\\u00c3\\u0082\\\\x83\\u00c3\\u0083\\\\x82\\u00c3\\u0082\\\\x83\\u00c3\\u0083\\\\x83\\u00c3\\u0082\\\\x82\\u00c3\\u0083\\\\x82\\u00c3\\u0082\\\\xa0\\u00c3\\u0083\\\\x83\\u00c3\\u0082\\\\x83\\u00c3\\u0083\\\\x82\\u00c3\\u0082\\\\x82\\u00c3\\u0083\\\\x83\\u00c3\\u0082\\\\x82\\u00c3\\u0083\\\\x82\\u00c3\\u0082\\u00c2\\u00b2\\u00c3\\u0083\\\\x83\\u00c3\\u0082\\\\x83\\u00c3\\u0083\\\\x82\\u00c3\\u0082\\\\x82\\u00c3\\u0083\\\\x83\\u00c3\\u0082\\\\x82\\u00c3\\u0083\\\\x82\\u00c3\\u0082\\u00c2\\u00a8\\u00c3\\u0083\\\\x83\\u00c3\\u0082\\\\x83\\u00c3\\u0083\\\\x82\\u00c3\\u0082\\\\x83\\u00c3\\u0083\\\\x83\\u00c3\\u0082\\\\x82\\u00c3\\u0083\\\\x82\\u00c3\\u0082\\\\xa0\\u00c3\\u0083\\\\x83\\u00c3\\u0082\\\\x83\\u00c3\\u0083\\\\x82\\u00c3\\u0082\\\\x82\\u00c3\\u0083\\\\x83\\u00c3\\u0082\\\\x82\\u00c3\\u0083\\\\x82\\u00c3\\u0082\\u00c2\\u00b3\\u00c3\\u0083\\\\x83\\u00c3\\u0082\\\\x83\\u00c3\\u0083\\\\x82\\u00c3\\u0082\\\\x82\\u00c3\\u0083\\\\x83\\u00c3\\u0082\\\\x82\\u00c3\\u0083\\\\x82\\u00c3\\u0082\\\\x8d\\u00c3\\u0083\\\\x83\\u00c3\\u0082\\\\x83\\u00c3\\u0083\\\\x82\\u00c3\\u0082\\\\x83\\u00c3\\u0083\\\\x83\\u00c3\\u0082\\\\x82\\u00c3\\u0083\\\\x82\\u00c3\\u0082\\\\xa0\\u00c3\\u0083\\\\x83\\u00c3\\u0082\\\\x83\\u00c3\\u0083\\\\x82\\u00c3\\u0082\\\\x82\\u00c3\\u0083\\\\x83\\u00c3\\u0082\\\\x82\\u00c3\\u0083\\\\x82\\u00c3\\u0082\\u00c2\\u00b2\\u00c3\\u0083\\\\x83\\u00c3\\u0082\\\\x83\\u00c3\\u0083\\\\x82\\u00c3\\u0082\\\\x82\\u00c3\\u0083\\\\x83\\u00c3\\u0082\\\\x82\\u00c3\\u0083\\\\x82\\u00c3\\u0082\\u00c2\\u00a8\\u00c3\\u0083\\\\x83\\u00c3\\u0082\\\\x83\\u00c3\\u0083\\\\x82\\u00c3\\u0082\\\\x83\\u00c3\\u0083\\\\x83\\u00c3\\u0082\\\\x82\\u00c3\\u0083\\\\x82\\u00c3\\u0082\\\\xa0\\u00c3\\u0083\\\\x83\\u00c3\\u0082\\\\x83\\u00c3\\u0083\\\\x82\\u00c3\\u0082\\\\x82\\u00c3\\u0083\\\\x83\\u00c3\\u0082\\\\x82\\u00c3\\u0083\\\\x82\\u00c3\\u0082\\u00c2\\u00b3\\u00c3\\u0083\\\\x83\\u00c3\\u0082\\\\x83\\u00c3\\u0083\\\\x82\\u00c3\\u0082\\\\x82\\u00c3\\u0083\\\\x83\\u00c3\\u0082\\\\x82\\u00c3\\u0083\\\\x82\\u00c3\\u0082\\\\x81 \\u00c3\\u0083\\\\x83\\u00c3\\u0082\\\\x83\\u00c3\\u0083\\\\x82\\u00c3\\u0082\\\\x83\\u00c3\\u0083\\\\x83\\u00c3\\u0082\\\\x82\\u00c3\\u0083\\\\x82\\u00c3\\u0082\\\\xa0\\u00c3\\u0083\\\\x83\\u00c3\\u0082\\\\x83\\u00c3\\u0083\\\\x82\\u00c3\\u0082\\\\x82\\u00c3\\u0083\\\\x83\\u00c3\\u0082\\\\x82\\u00c3\\u0083\\\\x82\\u00c3\\u0082\\u00c2\\u00b2\\u00c3\\u0083\\\\x83\\u00c3\\u0082\\\\x83\\u00c3\\u0083\\\\x82\\u00c3\\u0082\\\\x82\\u00c3\\u0083\\\\x83\\u00c3\\u0082\\\\x82\\u00c3\\u0083\\\\x82\\u00c3\\u0082\\u00c2\\u00b0\\u00c3\\u0083\\\\x83\\u00c3\\u0082\\\\x83\\u00c3\\u0083\\\\x82\\u00c3\\u0082\\\\x83\\u00c3\\u0083\\\\x83\\u00c3\\u0082\\\\x82\\u00c3\\u0083\\\\x82\\u00c3\\u0082\\\\xa0\\u00c3\\u0083\\\\x83\\u00c3\\u0082\\\\x83\\u00c3\\u0083\\\\x82\\u00c3\\u0082\\\\x82\\u00c3\\u0083\\\\x83\\u00c3\\u0082\\\\x82\\u00c3\\u0083\\\\x82\\u00c3\\u0082\\u00c2\\u00b3\\u00c3\\u0083\\\\x83\\u00c3\\u0082\\\\x83\\u00c3\\u0083\\\\x82\\u00c3\\u0082\\\\x82\\u00c3\\u0083\\\\x83\\u00c3\\u0082\\\\x82\\u00c3\\u0083\\\\x82\\u00c3\\u0082\\\\x81\\u00c3\\u0083\\\\x83\\u00c3\\u0082\\\\x83\\u00c3\\u0083\\\\x82\\u00c3\\u0082\\\\x83\\u00c3\\u0083\\\\x83\\u00c3\\u0082\\\\x82\\u00c3\\u0083\\\\x82\\u00c3\\u0082\\\\xa0\\u00c3\\u0083\\\\x83\\u00c3\\u0082\\\\x83\\u00c3\\u0083\\\\x82\\u00c3\\u0082\\\\x82\\u00c3\\u0083\\\\x83\\u00c3\\u0082\\\\x82\\u00c3\\u0083\\\\x82\\u00c3\\u0082\\u00c2\\u00b2\\u00c3\\u0083\\\\x83\\u00c3\\u0082\\\\x83\\u00c3\\u0083\\\\x82\\u00c3\\u0082\\\\x82\\u00c3\\u0083\\\\x83\\u00c3\\u0082\\\\x82\\u00c3\\u0083\\\\x82\\u00c3\\u0082\\\\x9a\\u00c3\\u0083\\\\x83\\u00c3\\u0082\\\\x83\\u00c3\\u0083\\\\x82\\u00c3\\u0082\\\\x83\\u00c3\\u0083\\\\x83\\u00c3\\u0082\\\\x82\\u00c3\\u0083\\\\x82\\u00c3\\u0082\\\\xa0\\u00c3\\u0083\\\\x83\\u00c3\\u0082\\\\x83\\u00c3\\u0083\\\\x82\\u00c3\\u0082\\\\x82\\u00c3\\u0083\\\\x83\\u00c3\\u0082\\\\x82\\u00c3\\u0083\\\\x82\\u00c3\\u0082\\u00c2\\u00b2\\u00c3\\u0083\\\\x83\\u00c3\\u0082\\\\x83\\u00c3\\u0083\\\\x82\\u00c3\\u0082\\\\x82\\u00c3\\u0083\\\\x83\\u00c3\\u0082\\\\x82\\u00c3\\u0083\\\\x82\\u00c3\\u0082\\u00c2\\u00bf\\u00c3\\u0083\\\\x83\\u00c3\\u0082\\\\x83\\u00c3\\u0083\\\\x82\\u00c3\\u0082\\\\x83\\u00c3\\u0083\\\\x83\\u00c3\\u0082\\\\x82\\u00c3\\u0083\\\\x82\\u00c3\\u0082\\\\xa0\\u00c3\\u0083\\\\x83\\u00c3\\u0082\\\\x83\\u00c3\\u0083\\\\x82\\u00c3\\u0082\\\\x82\\u00c3\\u0083\\\\x83\\u00c3\\u0082\\\\x82\\u00c3\\u0083\\\\x82\\u00c3\\u0082\\u00c2\\u00b2\\u00c3\\u0083\\\\x83\\u00c3\\u0082\\\\x83\\u00c3\\u0083\\\\x82\\u00c3\\u0082\\\\x82\\u00c3\\u0083\\\\x83\\u00c3\\u0082\\\\x82\\u00c3\\u0083\\\\x82\\u00c3\\u0082\\u00c2\\u00af\\u00c3\\u0083\\\\x83\\u00c3\\u0082\\\\x83\\u00c3\\u0083\\\\x82\\u00c3\\u0082\\\\x83\\u00c3\\u0083\\\\x83\\u00c3\\u0082\\\\x82\\u00c3\\u0083\\\\x82\\u00c3\\u0082\\\\xa0\\u00c3\\u0083\\\\x83\\u00c3\\u0082\\\\x83\\u00c3\\u0083\\\\x82\\u00c3\\u0082\\\\x82\\u00c3\\u0083\\\\x83\\u00c3\\u0082\\\\x82\\u00c3\\u0083\\\\x82\\u00c3\\u0082\\u00c2\\u00b2\\u00c3\\u0083\\\\x83\\u00c3\\u0082\\\\x83\\u00c3\\u0083\\\\x82\\u00c3\\u0082\\\\x82\\u00c3\\u0083\\\\x83\\u00c3\\u0082\\\\x82\\u00c3\\u0083\\\\x82\\u00c3\\u0082\\u00c2\\u00be\\u00c3\\u0083\\\\x83\\u00c3\\u0082\\\\x83\\u00c3\\u0083\\\\x82\\u00c3\\u0082\\\\x83\\u00c3\\u0083\\\\x83\\u00c3\\u0082\\\\x82\\u00c3\\u0083\\\\x82\\u00c3\\u0082\\\\xa0\\u00c3\\u0083\\\\x83\\u00c3\\u0082\\\\x83\\u00c3\\u0083\\\\x82\\u00c3\\u0082\\\\x82\\u00c3\\u0083\\\\x83\\u00c3\\u0082\\\\x82\\u00c3\\u0083\\\\x82\\u00c3\\u0082\\u00c2\\u00b2\\u00c3\\u0083\\\\x83\\u00c3\\u0082\\\\x83\\u00c3\\u0083\\\\x82\\u00c3\\u0082\\\\x82\\u00c3\\u0083\\\\x83\\u00c3\\u0082\\\\x82\\u00c3\\u0083\\\\x82\\u00c3\\u0082\\\\x97\\u00c3\\u0083\\\\x83\\u00c3\\u0082\\\\x83\\u00c3\\u0083\\\\x82\\u00c3\\u0082\\\\x83\\u00c3\\u0083\\\\x83\\u00c3\\u0082\\\\x82\\u00c3\\u0083\\\\x82\\u00c3\\u0082\\\\xa0\\u00c3\\u0083\\\\x83\\u00c3\\u0082\\\\x83\\u00c3\\u0083\\\\x82\\u00c3\\u0082\\\\x82\\u00c3\\u0083\\\\x83\\u00c3\\u0082\\\\x82\\u00c3\\u0083\\\\x82\\u00c3\\u0082\\u00c2\\u00b2\\u00c3\\u0083\\\\x83\\u00c3\\u0082\\\\x83\\u00c3\\u0083\\\\x82\\u00c3\\u0082\\\\x82\\u00c3\\u0083\\\\x83\\u00c3\\u0082\\\\x82\\u00c3\\u0083\\\\x82\\u00c3\\u0082\\u00c2\\u00bf \\u00c3\\u0083\\\\x83\\u00c3\\u0082\\\\x83\\u00c3\\u0083\\\\x82\\u00c3\\u0082\\\\x83\\u00c3\\u0083\\\\x83\\u00c3\\u0082\\\\x82\\u00c3\\u0083\\\\x82\\u00c3\\u0082\\\\xa0\\u00c3\\u0083\\\\x83\\u00c3\\u0082\\\\x83\\u00c3\\u0083\\\\x82\\u00c3\\u0082\\\\x82\\u00c3\\u0083\\\\x83\\u00c3\\u0082\\\\x82\\u00c3\\u0083\\\\x82\\u00c3\\u0082\\u00c2\\u00b2\\u00c3\\u0083\\\\x83\\u00c3\\u0082\\\\x83\\u00c3\\u0083\\\\x82\\u00c3\\u0082\\\\x82\\u00c3\\u0083\\\\x83\\u00c3\\u0082\\\\x82\\u00c3\\u0083\\\\x82\\u00c3\\u0082\\u00c2\\u00ae\\u00c3\\u0083\\\\x83\\u00c3\\u0082\\\\x83\\u00c3\\u0083\\\\x82\\u00c3\\u0082\\\\x83\\u00c3\\u0083\\\\x83\\u00c3\\u0082\\\\x82\\u00c3\\u0083\\\\x82\\u00c3\\u0082\\\\xa0\\u00c3\\u0083\\\\x83\\u00c3\\u0082\\\\x83\\u00c3\\u0083\\\\x82\\u00c3\\u0082\\\\x82\\u00c3\\u0083\\\\x83\\u00c3\\u0082\\\\x82\\u00c3\\u0083\\\\x82\\u00c3\\u0082\\u00c2\\u00b2\\u00c3\\u0083\\\\x83\\u00c3\\u0082\\\\x83\\u00c3\\u0083\\\\x82\\u00c3\\u0082\\\\x82\\u00c3\\u0083\\\\x83\\u00c3\\u0082\\\\x82\\u00c3\\u0083\\\\x82\\u00c3\\u0082\\u00c2\\u00be\\u00c3\\u0083\\\\x83\\u00c3\\u0082\\\\x83\\u00c3\\u0083\\\\x82\\u00c3\\u0082\\\\x83\\u00c3\\u0083\\\\x83\\u00c3\\u0082\\\\x82\\u00c3\\u0083\\\\x82\\u00c3\\u0082\\\\xa0\\u00c3\\u0083\\\\x83\\u00c3\\u0082\\\\x83\\u00c3\\u0083\\\\x82\\u00c3\\u0082\\\\x82\\u00c3\\u0083\\\\x83\\u00c3\\u0082\\\\x82\\u00c3\\u0083\\\\x82\\u00c3\\u0082\\u00c2\\u00b2\\u00c3\\u0083\\\\x83\\u00c3\\u0082\\\\x83\\u00c3\\u0083\\\\x82\\u00c3\\u0082\\\\x82\\u00c3\\u0083\\\\x83\\u00c3\\u0082\\\\x82\\u00c3\\u0083\\\\x82\\u00c3\\u0082\\u00c2\\u00a1\\u00c3\\u0083\\\\x83\\u00c3\\u0082\\\\x83\\u00c3\\u0083\\\\x82\\u00c3\\u0082\\\\x83\\u00c3\\u0083\\\\x83\\u00c3\\u0082\\\\x82\\u00c3\\u0083\\\\x82\\u00c3\\u0082\\\\xa0\\u00c3\\u0083\\\\x83\\u00c3\\u0082\\\\x83\\u00c3\\u0083\\\\x82\\u00c3\\u0082\\\\x82\\u00c3\\u0083\\\\x83\\u00c3\\u0082\\\\x82\\u00c3\\u0083\\\\x82\\u00c3\\u0082\\u00c2\\u00b2\\u00c3\\u0083\\\\x83\\u00c3\\u0082\\\\x83\\u00c3\\u0083\\\\x82\\u00c3\\u0082\\\\x82\\u00c3\\u0083\\\\x83\\u00c3\\u0082\\\\x82\\u00c3\\u0083\\\\x82\\u00c3\\u0082\\u00c2\\u00ac\\u00c3\\u0083\\\\x83\\u00c3\\u0082\\\\x83\\u00c3\\u0083\\\\x82\\u00c3\\u0082\\\\x83\\u00c3\\u0083\\\\x83\\u00c3\\u0082\\\\x82\\u00c3\\u0083\\\\x82\\u00c3\\u0082\\\\xa0\\u00c3\\u0083\\\\x83\\u00c3\\u0082\\\\x83\\u00c3\\u0083\\\\x82\\u00c3\\u0082\\\\x82\\u00c3\\u0083\\\\x83\\u00c3\\u0082\\\\x82\\u00c3\\u0083\\\\x82\\u00c3\\u0082\\u00c2\\u00b3\\u00c3\\u0083\\\\x83\\u00c3\\u0082\\\\x83\\u00c3\\u0083\\\\x82\\u00c3\\u0082\\\\x82\\u00c3\\u0083\\\\x83\\u00c3\\u0082\\\\x82\\u00c3\\u0083\\\\x82\\u00c3\\u0082\\\\x8b\\u00c3\\u0083\\\\x83\\u00c3\\u0082\\\\x83\\u00c3\\u0083\\\\x82\\u00c3\\u0082\\\\x83\\u00c3\\u0083\\\\x83\\u00c3\\u0082\\\\x82\\u00c3\\u0083\\\\x82\\u00c3\\u0082\\\\xa0\\u00c3\\u0083\\\\x83\\u00c3\\u0082\\\\x83\\u00c3\\u0083\\\\x82\\u00c3\\u0082\\\\x82\\u00c3\\u0083\\\\x83\\u00c3\\u0082\\\\x82\\u00c3\\u0083\\\\x82\\u00c3\\u0082\\u00c2\\u00b2\\u00c3\\u0083\\\\x83\\u00c3\\u0082\\\\x83\\u00c3\\u0083\\\\x82\\u00c3\\u0082\\\\x82\\u00c3\\u0083\\\\x83\\u00c3\\u0082\\\\x82\\u00c3\\u0083\\\\x82\\u00c3\\u0082\\u00c2\\u00a6\\u00c3\\u0083\\\\x83\\u00c3\\u0082\\\\x83\\u00c3\\u0083\\\\x82\\u00c3\\u0082\\\\x83\\u00c3\\u0083\\\\x83\\u00c3\\u0082\\\\x82\\u00c3\\u0083\\\\x82\\u00c3\\u0082\\\\xa0\\u00c3\\u0083\\\\x83\\u00c3\\u0082\\\\x83\\u00c3\\u0083\\\\x82\\u00c3\\u0082\\\\x82\\u00c3\\u0083\\\\x83\\u00c3\\u0082\\\\x82\\u00c3\\u0083\\\\x82\\u00c3\\u0082\\u00c2\\u00b3\\u00c3\\u0083\\\\x83\\u00c3\\u0082\\\\x83\\u00c3\\u0083\\\\x82\\u00c3\\u0082\\\\x82\\u00c3\\u0083\\\\x83\\u00c3\\u0082\\\\x82\\u00c3\\u0083\\\\x82\\u00c3\\u0082\\\\x81'), ('Rated 1.0', 'RATED\\\\n  panner masala container cap was opened and we have not eat that'), ('Rated 5.0', 'RATED\\\\n  full satisfied very tasty food'), ('Rated 5.0', 'RATED\\\\n  It was good and tasty according to price'), ('Rated 1.0', 'RATED\\\\n  Aloo mutter was very spicy not able to eat my all food wasted.'), ('Rated 1.0', 'RATED\\\\n  Worst food ever had and seen'), ('Rated 3.0', 'RATED\\\\n  good quantity, should improve taste'), ('Rated 5.0', 'RATED\\\\n  great food loved the taste must try (for veg)'), ('Rated 3.0', 'RATED\\\\n  Naans and parathas are the worst.. If you have to order something just order tandoori chicken except naan and parathas. Tandoori chicken is tasty.'), ('Rated 1.0', 'RATED\\\\n  very low quantity and average quality they are cheating the customers'), ('Rated 4.0', 'RATED\\\\n  Good'), ('Rated 3.0', 'RATED\\\\n  good quantity, should improve taste'), ('Rated 5.0', 'RATED\\\\n  great food loved the taste must try (for veg)'), ('Rated 3.0', 'RATED\\\\n  Naans and parathas are the worst.. If you have to order something just order tandoori chicken except naan and parathas. Tandoori chicken is tasty.'), ('Rated 1.0', 'RATED\\\\n  very low quantity and average quality they are cheating the customers'), ('Rated 4.0', 'RATED\\\\n  Good'), ('Rated 3.0', 'RATED\\\\n  The packaging was horrible. Oil leaking everywhere and they only gave one bag for a lot of items. Food was soggy AF.'), ('Rated 1.0', 'RATED\\\\n  worst food ever... better dnt order...'), ('Rated 5.0', 'RATED\\\\n  super'), ('Rated 4.0', 'RATED\\\\n  food was good'), ('Rated 5.0', 'RATED\\\\n  Delicious food'), ('Rated 3.0', 'RATED\\\\n  The packaging was horrible. Oil leaking everywhere and they only gave one bag for a lot of items. Food was soggy AF.'), ('Rated 1.0', 'RATED\\\\n  worst food ever... better dnt order...'), ('Rated 5.0', 'RATED\\\\n  super'), ('Rated 4.0', 'RATED\\\\n  food was good'), ('Rated 5.0', 'RATED\\\\n  Delicious food'), ('Rated 3.0', 'RATED\\\\n  The packaging was horrible. Oil leaking everywhere and they only gave one bag for a lot of items. Food was soggy AF.'), ('Rated 1.0', 'RATED\\\\n  worst food ever... better dnt order...'), ('Rated 5.0', 'RATED\\\\n  super'), ('Rated 4.0', 'RATED\\\\n  food was good'), ('Rated 5.0', 'RATED\\\\n  Delicious food'), ('Rated 3.0', 'RATED\\\\n  The packaging was horrible. Oil leaking everywhere and they only gave one bag for a lot of items. Food was soggy AF.'), ('Rated 1.0', 'RATED\\\\n  worst food ever... better dnt order...'), ('Rated 5.0', 'RATED\\\\n  super'), ('Rated 4.0', 'RATED\\\\n  food was good'), ('Rated 5.0', 'RATED\\\\n  Delicious food'), ('Rated 3.0', 'RATED\\\\n  The packaging was horrible. Oil leaking everywhere and they only gave one bag for a lot of items. Food was soggy AF.'), ('Rated 1.0', 'RATED\\\\n  worst food ever... better dnt order...'), ('Rated 5.0', 'RATED\\\\n  super'), ('Rated 4.0', 'RATED\\\\n  food was good'), ('Rated 5.0', 'RATED\\\\n  Delicious food'), ('Rated 3.0', 'RATED\\\\n  The packaging was horrible. Oil leaking everywhere and they only gave one bag for a lot of items. Food was soggy AF.'), ('Rated 1.0', 'RATED\\\\n  worst food ever... better dnt order...'), ('Rated 5.0', 'RATED\\\\n  super'), ('Rated 4.0', 'RATED\\\\n  food was good'), ('Rated 5.0', 'RATED\\\\n  Delicious food'), ('Rated 3.0', 'RATED\\\\n  The packaging was horrible. Oil leaking everywhere and they only gave one bag for a lot of items. Food was soggy AF.'), ('Rated 1.0', 'RATED\\\\n  worst food ever... better dnt order...'), ('Rated 5.0', 'RATED\\\\n  super'), ('Rated 4.0', 'RATED\\\\n  food was good'), ('Rated 5.0', 'RATED\\\\n  Delicious food'), ('Rated 3.0', 'RATED\\\\n  The packaging was horrible. Oil leaking everywhere and they only gave one bag for a lot of items. Food was soggy AF.'), ('Rated 1.0', 'RATED\\\\n  worst food ever... better dnt order...'), ('Rated 5.0', 'RATED\\\\n  super'), ('Rated 4.0', 'RATED\\\\n  food was good'), ('Rated 5.0', 'RATED\\\\n  Delicious food'), ('Rated 3.0', 'RATED\\\\n  The packaging was horrible. Oil leaking everywhere and they only gave one bag for a lot of items. Food was soggy AF.'), ('Rated 1.0', 'RATED\\\\n  worst food ever... better dnt order...'), ('Rated 5.0', 'RATED\\\\n  super'), ('Rated 4.0', 'RATED\\\\n  food was good'), ('Rated 5.0', 'RATED\\\\n  Delicious food'), ('Rated 3.0', 'RATED\\\\n  The packaging was horrible. Oil leaking everywhere and they only gave one bag for a lot of items. Food was soggy AF.'), ('Rated 1.0', 'RATED\\\\n  worst food ever... better dnt order...'), ('Rated 5.0', 'RATED\\\\n  super'), ('Rated 4.0', 'RATED\\\\n  food was good'), ('Rated 5.0', 'RATED\\\\n  Delicious food'), ('Rated 3.0', 'RATED\\\\n  The packaging was horrible. Oil leaking everywhere and they only gave one bag for a lot of items. Food was soggy AF.'), ('Rated 1.0', 'RATED\\\\n  worst food ever... better dnt order...'), ('Rated 5.0', 'RATED\\\\n  super'), ('Rated 4.0', 'RATED\\\\n  food was good'), ('Rated 5.0', 'RATED\\\\n  Delicious food'), ('Rated 3.0', 'RATED\\\\n  The packaging was horrible. Oil leaking everywhere and they only gave one bag for a lot of items. Food was soggy AF.'), ('Rated 1.0', 'RATED\\\\n  worst food ever... better dnt order...'), ('Rated 5.0', 'RATED\\\\n  super'), ('Rated 4.0', 'RATED\\\\n  food was good'), ('Rated 5.0', 'RATED\\\\n  Delicious food'), ('Rated 5.0', 'RATED\\\\n  nice'), ('Rated 2.0', 'RATED\\\\n  very oily ..although I mentioned not to make it oily n gravy not ethical'), ('Rated 1.0', 'RATED\\\\n  not good'), ('Rated 1.0', 'RATED\\\\n  food was delivered ice cold, after some 1.5hours'), ('Rated 5.0', 'RATED\\\\n  good'), ('Rated 5.0', 'RATED\\\\n  nice'), ('Rated 2.0', 'RATED\\\\n  very oily ..although I mentioned not to make it oily n gravy not ethical'), ('Rated 1.0', 'RATED\\\\n  not good'), ('Rated 1.0', 'RATED\\\\n  food was delivered ice cold, after some 1.5hours'), ('Rated 5.0', 'RATED\\\\n  good'), ('Rated 5.0', 'RATED\\\\n  nice'), ('Rated 2.0', 'RATED\\\\n  very oily ..although I mentioned not to make it oily n gravy not ethical'), ('Rated 1.0', 'RATED\\\\n  not good'), ('Rated 1.0', 'RATED\\\\n  food was delivered ice cold, after some 1.5hours'), ('Rated 5.0', 'RATED\\\\n  good'), ('Rated 5.0', 'RATED\\\\n  nice'), ('Rated 2.0', 'RATED\\\\n  very oily ..although I mentioned not to make it oily n gravy not ethical'), ('Rated 1.0', 'RATED\\\\n  not good'), ('Rated 1.0', 'RATED\\\\n  food was delivered ice cold, after some 1.5hours'), ('Rated 5.0', 'RATED\\\\n  good'), ('Rated 5.0', 'RATED\\\\n  nice'), ('Rated 2.0', 'RATED\\\\n  very oily ..although I mentioned not to make it oily n gravy not ethical'), ('Rated 1.0', 'RATED\\\\n  not good'), ('Rated 1.0', 'RATED\\\\n  food was delivered ice cold, after some 1.5hours'), ('Rated 5.0', 'RATED\\\\n  good'), ('Rated 5.0', 'RATED\\\\n  nice'), ('Rated 2.0', 'RATED\\\\n  very oily ..although I mentioned not to make it oily n gravy not ethical'), ('Rated 1.0', 'RATED\\\\n  not good'), ('Rated 1.0', 'RATED\\\\n  food was delivered ice cold, after some 1.5hours'), ('Rated 5.0', 'RATED\\\\n  good'), ('Rated 5.0', 'RATED\\\\n  nice'), ('Rated 2.0', 'RATED\\\\n  very oily ..although I mentioned not to make it oily n gravy not ethical'), ('Rated 1.0', 'RATED\\\\n  not good'), ('Rated 1.0', 'RATED\\\\n  food was delivered ice cold, after some 1.5hours'), ('Rated 5.0', 'RATED\\\\n  good'), ('Rated 1.0', 'RATED\\\\n  This restaurant is only 10 mins from my home.. but they took 1.5 hours to deliver. By the time, the food was ice cold and tasteless. Horrible experience after a very long wait.'), ('Rated 5.0', 'RATED\\\\n  food taste was good'), ('Rated 4.0', 'RATED\\\\n  More salt in daal'), ('Rated 2.0', 'RATED\\\\n  no teast'), ('Rated 3.0', 'RATED\\\\n  hardly any baby corn in baby corn manchurian..only rotis were good'), ('Rated 1.0', 'RATED\\\\n  This restaurant is only 10 mins from my home.. but they took 1.5 hours to deliver. By the time, the food was ice cold and tasteless. Horrible experience after a very long wait.'), ('Rated 5.0', 'RATED\\\\n  food taste was good'), ('Rated 4.0', 'RATED\\\\n  More salt in daal'), ('Rated 2.0', 'RATED\\\\n  no teast'), ('Rated 3.0', 'RATED\\\\n  hardly any baby corn in baby corn manchurian..only rotis were good'), ('Rated 1.0', 'RATED\\\\n  This restaurant is only 10 mins from my home.. but they took 1.5 hours to deliver. By the time, the food was ice cold and tasteless. Horrible experience after a very long wait.'), ('Rated 5.0', 'RATED\\\\n  food taste was good'), ('Rated 4.0', 'RATED\\\\n  More salt in daal'), ('Rated 2.0', 'RATED\\\\n  no teast'), ('Rated 3.0', 'RATED\\\\n  hardly any baby corn in baby corn manchurian..only rotis were good'), ('Rated 1.0', 'RATED\\\\n  This restaurant is only 10 mins from my home.. but they took 1.5 hours to deliver. By the time, the food was ice cold and tasteless. Horrible experience after a very long wait.'), ('Rated 5.0', 'RATED\\\\n  food taste was good'), ('Rated 4.0', 'RATED\\\\n  More salt in daal'), ('Rated 2.0', 'RATED\\\\n  no teast'), ('Rated 3.0', 'RATED\\\\n  hardly any baby corn in baby corn manchurian..only rotis were good'), ('Rated 1.0', 'RATED\\\\n  This restaurant is only 10 mins from my home.. but they took 1.5 hours to deliver. By the time, the food was ice cold and tasteless. Horrible experience after a very long wait.'), ('Rated 5.0', 'RATED\\\\n  food taste was good'), ('Rated 4.0', 'RATED\\\\n  More salt in daal'), ('Rated 2.0', 'RATED\\\\n  no teast'), ('Rated 3.0', 'RATED\\\\n  hardly any baby corn in baby corn manchurian..only rotis were good'), ('Rated 1.0', 'RATED\\\\n  This restaurant is only 10 mins from my home.. but they took 1.5 hours to deliver. By the time, the food was ice cold and tasteless. Horrible experience after a very long wait.'), ('Rated 5.0', 'RATED\\\\n  food taste was good'), ('Rated 4.0', 'RATED\\\\n  More salt in daal'), ('Rated 2.0', 'RATED\\\\n  no teast'), ('Rated 3.0', 'RATED\\\\n  hardly any baby corn in baby corn manchurian..only rotis were good'), ('Rated 1.0', 'RATED\\\\n  This restaurant is only 10 mins from my home.. but they took 1.5 hours to deliver. By the time, the food was ice cold and tasteless. Horrible experience after a very long wait.'), ('Rated 5.0', 'RATED\\\\n  food taste was good'), ('Rated 4.0', 'RATED\\\\n  More salt in daal'), ('Rated 2.0', 'RATED\\\\n  no teast'), ('Rated 3.0', 'RATED\\\\n  hardly any baby corn in baby corn manchurian..only rotis were good'), ('Rated 1.0', 'RATED\\\\n  This restaurant is only 10 mins from my home.. but they took 1.5 hours to deliver. By the time, the food was ice cold and tasteless. Horrible experience after a very long wait.'), ('Rated 5.0', 'RATED\\\\n  food taste was good'), ('Rated 4.0', 'RATED\\\\n  More salt in daal'), ('Rated 2.0', 'RATED\\\\n  no teast'), ('Rated 3.0', 'RATED\\\\n  hardly any baby corn in baby corn manchurian..only rotis were good'), ('Rated 5.0', 'RATED\\\\n \\\\nGreat delivery time and food quality\\\\nI was hoping there would be someone who delivers closer to my home and I found them on Zomato so thank you for making my weekend more chilled out guys'), ('Rated 4.0', 'RATED\\\\n  rotis r excellent ...egg was not cooked properly in egg roll..chili chken is v oily ...n the recipe needs modification...'), ('Rated 4.0', 'RATED\\\\n  good'), ('Rated 3.0', 'RATED\\\\n  food is very cold and chicken is nt boiled properly'), ('Rated 2.0', 'RATED\\\\n  dal tadka is worst i have ever eaten . its with lots of stones .\\\\ni hate dal tadka from now onwards becoz of such experience'), ('Rated 5.0', 'RATED\\\\n \\\\nGreat delivery time and food quality\\\\nI was hoping there would be someone who delivers closer to my home and I found them on Zomato so thank you for making my weekend more chilled out guys'), ('Rated 4.0', 'RATED\\\\n  rotis r excellent ...egg was not cooked properly in egg roll..chili chken is v oily ...n the recipe needs modification...'), ('Rated 4.0', 'RATED\\\\n  good'), ('Rated 3.0', 'RATED\\\\n  food is very cold and chicken is nt boiled properly'), ('Rated 2.0', 'RATED\\\\n  dal tadka is worst i have ever eaten . its with lots of stones .\\\\ni hate dal tadka from now onwards becoz of such experience'), ('Rated 5.0', 'RATED\\\\n \\\\nGreat delivery time and food quality\\\\nI was hoping there would be someone who delivers closer to my home and I found them on Zomato so thank you for making my weekend more chilled out guys'), ('Rated 4.0', 'RATED\\\\n  rotis r excellent ...egg was not cooked properly in egg roll..chili chken is v oily ...n the recipe needs modification...'), ('Rated 4.0', 'RATED\\\\n  good'), ('Rated 3.0', 'RATED\\\\n  food is very cold and chicken is nt boiled properly'), ('Rated 2.0', 'RATED\\\\n  dal tadka is worst i have ever eaten . its with lots of stones .\\\\ni hate dal tadka from now onwards becoz of such experience'), ('Rated 5.0', 'RATED\\\\n \\\\nGreat delivery time and food quality\\\\nI was hoping there would be someone who delivers closer to my home and I found them on Zomato so thank you for making my weekend more chilled out guys'), ('Rated 4.0', 'RATED\\\\n  rotis r excellent ...egg was not cooked properly in egg roll..chili chken is v oily ...n the recipe needs modification...'), ('Rated 4.0', 'RATED\\\\n  good'), ('Rated 3.0', 'RATED\\\\n  food is very cold and chicken is nt boiled properly'), ('Rated 2.0', 'RATED\\\\n  dal tadka is worst i have ever eaten . its with lots of stones .\\\\ni hate dal tadka from now onwards becoz of such experience'), ('Rated 5.0', 'RATED\\\\n \\\\nGreat delivery time and food quality\\\\nI was hoping there would be someone who delivers closer to my home and I found them on Zomato so thank you for making my weekend more chilled out guys'), ('Rated 4.0', 'RATED\\\\n  rotis r excellent ...egg was not cooked properly in egg roll..chili chken is v oily ...n the recipe needs modification...'), ('Rated 4.0', 'RATED\\\\n  good'), ('Rated 3.0', 'RATED\\\\n  food is very cold and chicken is nt boiled properly'), ('Rated 2.0', 'RATED\\\\n  dal tadka is worst i have ever eaten . its with lots of stones .\\\\ni hate dal tadka from now onwards becoz of such experience'), ('Rated 5.0', 'RATED\\\\n \\\\nGreat delivery time and food quality\\\\nI was hoping there would be someone who delivers closer to my home and I found them on Zomato so thank you for making my weekend more chilled out guys'), ('Rated 4.0', 'RATED\\\\n  rotis r excellent ...egg was not cooked properly in egg roll..chili chken is v oily ...n the recipe needs modification...'), ('Rated 4.0', 'RATED\\\\n  good'), ('Rated 3.0', 'RATED\\\\n  food is very cold and chicken is nt boiled properly'), ('Rated 2.0', 'RATED\\\\n  dal tadka is worst i have ever eaten . its with lots of stones .\\\\ni hate dal tadka from now onwards becoz of such experience')]\"\n        ],\n        \"semantic_type\": \"\",\n        \"description\": \"\"\n      }\n    },\n    {\n      \"column\": \"menu_item\",\n      \"properties\": {\n        \"dtype\": \"string\",\n        \"num_unique_values\": 3,\n        \"samples\": [\n          \"['Boneless Naachiyars Special', 'Chicken Roast', 'Boneless Chicken Chukka', 'Boneless Chicken 65', 'Mutton Roast', 'Crab Varuval', 'Nethilli Fry', 'Chicken Curry', 'Egg Biryani', 'Chicken Biryani', 'Chicken Roast Biryani', 'Mutton Biryani', 'Chettinad Veg Meals', 'Chettinad Veg Meals', 'Pepper Rasam', 'Chicken Soup', 'Mutton Soup', 'Crab Soup', 'Chettinad Family Meal (Serves 4)', 'Vazhappu Vaada', 'Masala Vaada', 'Naachiyars Special Paneer Dry', 'Paneer Varuval', 'Mushroom 65', 'Mushroom Varuval', 'Gobi Pakoda', 'Egg Podimas', '3 Egg 65', 'Boneless Naachiyars Special', 'Chicken Roast', \\\"Boneless Naachiyar's Sholay Chicken\\\", 'Boneless Chicken Chukka', 'Boneless Chilli Chicken', 'Chicken Lollipop', 'Boneless Chicken 65', 'Chicken Kebab', 'Mutton Chukka', 'Mutton Chops', 'Mutton Roast', 'Mutton Brain Fry', 'Sear Fish Fry', 'Fish Kebab', 'Prawns Varuval', 'Prawns 65', 'Crab Varuval', 'Nethilli Fry', 'Kaadai Varuval Japnese Quill', 'Kaadai 65', 'Country Chicken', 'Spinach Dal', 'Vegetable Kurma', 'Vaada Curry Kurma', 'Country Chicken Curry', 'Chicken Curry', 'Mutton Curry', 'Sear Fish Curry', 'Mutton Chops Curry', 'Prawn Curry', 'Paneer Biryani', 'Vegetable Biryani', 'Egg Biryani', 'Chicken Biryani', 'Chicken Roast Biryani', 'Mutton Biryani', 'Mutton Chops Biryani', 'Fish Kebab Biryani', 'Prawns Biryani', 'Curd Rice', '2 Boiled Egg', 'Curd', 'Papad', 'Ghee', 'Paayasam', 'Gulab Jamun', 'Gulab Jamun with Ice Cream', 'Ice Cream Scoop', 'Chocolate Fudge', 'Buttermilk', 'Jal Jeera', 'Nanari Sharbath', 'Rosemilk', 'Lime Juice', 'Pudina Body Cooler', 'Ginger Body Cooler']\",\n          \"[]\"\n        ],\n        \"semantic_type\": \"\",\n        \"description\": \"\"\n      }\n    },\n    {\n      \"column\": \"listed_in(type)\",\n      \"properties\": {\n        \"dtype\": \"string\",\n        \"num_unique_values\": 3,\n        \"samples\": [\n          \"Dine-out\",\n          \"Delivery\"\n        ],\n        \"semantic_type\": \"\",\n        \"description\": \"\"\n      }\n    },\n    {\n      \"column\": \"listed_in(city)\",\n      \"properties\": {\n        \"dtype\": \"string\",\n        \"num_unique_values\": 4,\n        \"samples\": [\n          \"Koramangala 4th Block\",\n          \"New BEL Road\"\n        ],\n        \"semantic_type\": \"\",\n        \"description\": \"\"\n      }\n    }\n  ]\n}"
            }
          },
          "metadata": {},
          "execution_count": 9
        }
      ]
    },
    {
      "cell_type": "code",
      "source": [
        "df.info()"
      ],
      "metadata": {
        "colab": {
          "base_uri": "https://localhost:8080/"
        },
        "id": "XkrHlZb6Dp0U",
        "outputId": "cf15ef1d-8552-423c-abed-e750f3e353f2"
      },
      "execution_count": 10,
      "outputs": [
        {
          "output_type": "stream",
          "name": "stdout",
          "text": [
            "<class 'pandas.core.frame.DataFrame'>\n",
            "RangeIndex: 51717 entries, 0 to 51716\n",
            "Data columns (total 17 columns):\n",
            " #   Column                       Non-Null Count  Dtype \n",
            "---  ------                       --------------  ----- \n",
            " 0   url                          51717 non-null  object\n",
            " 1   address                      51717 non-null  object\n",
            " 2   name                         51717 non-null  object\n",
            " 3   online_order                 51717 non-null  object\n",
            " 4   book_table                   51717 non-null  object\n",
            " 5   rate                         43942 non-null  object\n",
            " 6   votes                        51717 non-null  int64 \n",
            " 7   phone                        50509 non-null  object\n",
            " 8   location                     51696 non-null  object\n",
            " 9   rest_type                    51490 non-null  object\n",
            " 10  dish_liked                   23639 non-null  object\n",
            " 11  cuisines                     51672 non-null  object\n",
            " 12  approx_cost(for two people)  51371 non-null  object\n",
            " 13  reviews_list                 51717 non-null  object\n",
            " 14  menu_item                    51717 non-null  object\n",
            " 15  listed_in(type)              51717 non-null  object\n",
            " 16  listed_in(city)              51717 non-null  object\n",
            "dtypes: int64(1), object(16)\n",
            "memory usage: 6.7+ MB\n"
          ]
        }
      ]
    },
    {
      "cell_type": "code",
      "source": [
        "#df['menu_item'].value_counts()"
      ],
      "metadata": {
        "id": "W-rjU_TiHEbR"
      },
      "execution_count": 11,
      "outputs": []
    },
    {
      "cell_type": "code",
      "source": [
        "df=df.drop(['address','phone','dish_liked','listed_in(city)','cuisines','menu_item','reviews_list'],axis=1)"
      ],
      "metadata": {
        "id": "P_lcMfQ3ItvS"
      },
      "execution_count": 12,
      "outputs": []
    },
    {
      "cell_type": "code",
      "source": [
        "df.sample(5)"
      ],
      "metadata": {
        "colab": {
          "base_uri": "https://localhost:8080/",
          "height": 347
        },
        "id": "AkrO-3FXJa9H",
        "outputId": "2784fc3f-7a09-457a-b96d-e3257e809900"
      },
      "execution_count": 13,
      "outputs": [
        {
          "output_type": "execute_result",
          "data": {
            "text/plain": [
              "                                                     url  \\\n",
              "27254  https://www.zomato.com/bangalore/ghar-ka-bhoja...   \n",
              "28474  https://www.zomato.com/bangalore/1722-urban-bi...   \n",
              "50403  https://www.zomato.com/bangalore/ooty-chocolat...   \n",
              "35431  https://www.zomato.com/bangalore/bubblewrap-wa...   \n",
              "42793  https://www.zomato.com/bangalore/gundappa-donn...   \n",
              "\n",
              "                         name online_order book_table    rate  votes  \\\n",
              "27254          Ghar Ka Bhojan          Yes         No   3.3/5      7   \n",
              "28474       1722 Urban Bistro          Yes        Yes  4.1 /5    222   \n",
              "50403         Ooty Chocolates          Yes         No  3.6 /5     16   \n",
              "35431   Bubblewrap Waffle Co.          Yes         No  4.4 /5    362   \n",
              "42793  Gundappa Donne Biryani           No         No  2.6 /5     91   \n",
              "\n",
              "                    location       rest_type approx_cost(for two people)  \\\n",
              "27254                 Domlur        Delivery                         200   \n",
              "28474  Koramangala 5th Block   Casual Dining                         600   \n",
              "50403             Whitefield  Dessert Parlor                         300   \n",
              "35431              Jayanagar  Dessert Parlor                         400   \n",
              "42793            Indiranagar     Quick Bites                         300   \n",
              "\n",
              "      listed_in(type)  \n",
              "27254        Delivery  \n",
              "28474        Dine-out  \n",
              "50403        Delivery  \n",
              "35431        Delivery  \n",
              "42793        Delivery  "
            ],
            "text/html": [
              "\n",
              "  <div id=\"df-d774577c-9b46-4fd8-9d43-d0113ab9e8ce\" class=\"colab-df-container\">\n",
              "    <div>\n",
              "<style scoped>\n",
              "    .dataframe tbody tr th:only-of-type {\n",
              "        vertical-align: middle;\n",
              "    }\n",
              "\n",
              "    .dataframe tbody tr th {\n",
              "        vertical-align: top;\n",
              "    }\n",
              "\n",
              "    .dataframe thead th {\n",
              "        text-align: right;\n",
              "    }\n",
              "</style>\n",
              "<table border=\"1\" class=\"dataframe\">\n",
              "  <thead>\n",
              "    <tr style=\"text-align: right;\">\n",
              "      <th></th>\n",
              "      <th>url</th>\n",
              "      <th>name</th>\n",
              "      <th>online_order</th>\n",
              "      <th>book_table</th>\n",
              "      <th>rate</th>\n",
              "      <th>votes</th>\n",
              "      <th>location</th>\n",
              "      <th>rest_type</th>\n",
              "      <th>approx_cost(for two people)</th>\n",
              "      <th>listed_in(type)</th>\n",
              "    </tr>\n",
              "  </thead>\n",
              "  <tbody>\n",
              "    <tr>\n",
              "      <th>27254</th>\n",
              "      <td>https://www.zomato.com/bangalore/ghar-ka-bhoja...</td>\n",
              "      <td>Ghar Ka Bhojan</td>\n",
              "      <td>Yes</td>\n",
              "      <td>No</td>\n",
              "      <td>3.3/5</td>\n",
              "      <td>7</td>\n",
              "      <td>Domlur</td>\n",
              "      <td>Delivery</td>\n",
              "      <td>200</td>\n",
              "      <td>Delivery</td>\n",
              "    </tr>\n",
              "    <tr>\n",
              "      <th>28474</th>\n",
              "      <td>https://www.zomato.com/bangalore/1722-urban-bi...</td>\n",
              "      <td>1722 Urban Bistro</td>\n",
              "      <td>Yes</td>\n",
              "      <td>Yes</td>\n",
              "      <td>4.1 /5</td>\n",
              "      <td>222</td>\n",
              "      <td>Koramangala 5th Block</td>\n",
              "      <td>Casual Dining</td>\n",
              "      <td>600</td>\n",
              "      <td>Dine-out</td>\n",
              "    </tr>\n",
              "    <tr>\n",
              "      <th>50403</th>\n",
              "      <td>https://www.zomato.com/bangalore/ooty-chocolat...</td>\n",
              "      <td>Ooty Chocolates</td>\n",
              "      <td>Yes</td>\n",
              "      <td>No</td>\n",
              "      <td>3.6 /5</td>\n",
              "      <td>16</td>\n",
              "      <td>Whitefield</td>\n",
              "      <td>Dessert Parlor</td>\n",
              "      <td>300</td>\n",
              "      <td>Delivery</td>\n",
              "    </tr>\n",
              "    <tr>\n",
              "      <th>35431</th>\n",
              "      <td>https://www.zomato.com/bangalore/bubblewrap-wa...</td>\n",
              "      <td>Bubblewrap Waffle Co.</td>\n",
              "      <td>Yes</td>\n",
              "      <td>No</td>\n",
              "      <td>4.4 /5</td>\n",
              "      <td>362</td>\n",
              "      <td>Jayanagar</td>\n",
              "      <td>Dessert Parlor</td>\n",
              "      <td>400</td>\n",
              "      <td>Delivery</td>\n",
              "    </tr>\n",
              "    <tr>\n",
              "      <th>42793</th>\n",
              "      <td>https://www.zomato.com/bangalore/gundappa-donn...</td>\n",
              "      <td>Gundappa Donne Biryani</td>\n",
              "      <td>No</td>\n",
              "      <td>No</td>\n",
              "      <td>2.6 /5</td>\n",
              "      <td>91</td>\n",
              "      <td>Indiranagar</td>\n",
              "      <td>Quick Bites</td>\n",
              "      <td>300</td>\n",
              "      <td>Delivery</td>\n",
              "    </tr>\n",
              "  </tbody>\n",
              "</table>\n",
              "</div>\n",
              "    <div class=\"colab-df-buttons\">\n",
              "\n",
              "  <div class=\"colab-df-container\">\n",
              "    <button class=\"colab-df-convert\" onclick=\"convertToInteractive('df-d774577c-9b46-4fd8-9d43-d0113ab9e8ce')\"\n",
              "            title=\"Convert this dataframe to an interactive table.\"\n",
              "            style=\"display:none;\">\n",
              "\n",
              "  <svg xmlns=\"http://www.w3.org/2000/svg\" height=\"24px\" viewBox=\"0 -960 960 960\">\n",
              "    <path d=\"M120-120v-720h720v720H120Zm60-500h600v-160H180v160Zm220 220h160v-160H400v160Zm0 220h160v-160H400v160ZM180-400h160v-160H180v160Zm440 0h160v-160H620v160ZM180-180h160v-160H180v160Zm440 0h160v-160H620v160Z\"/>\n",
              "  </svg>\n",
              "    </button>\n",
              "\n",
              "  <style>\n",
              "    .colab-df-container {\n",
              "      display:flex;\n",
              "      gap: 12px;\n",
              "    }\n",
              "\n",
              "    .colab-df-convert {\n",
              "      background-color: #E8F0FE;\n",
              "      border: none;\n",
              "      border-radius: 50%;\n",
              "      cursor: pointer;\n",
              "      display: none;\n",
              "      fill: #1967D2;\n",
              "      height: 32px;\n",
              "      padding: 0 0 0 0;\n",
              "      width: 32px;\n",
              "    }\n",
              "\n",
              "    .colab-df-convert:hover {\n",
              "      background-color: #E2EBFA;\n",
              "      box-shadow: 0px 1px 2px rgba(60, 64, 67, 0.3), 0px 1px 3px 1px rgba(60, 64, 67, 0.15);\n",
              "      fill: #174EA6;\n",
              "    }\n",
              "\n",
              "    .colab-df-buttons div {\n",
              "      margin-bottom: 4px;\n",
              "    }\n",
              "\n",
              "    [theme=dark] .colab-df-convert {\n",
              "      background-color: #3B4455;\n",
              "      fill: #D2E3FC;\n",
              "    }\n",
              "\n",
              "    [theme=dark] .colab-df-convert:hover {\n",
              "      background-color: #434B5C;\n",
              "      box-shadow: 0px 1px 3px 1px rgba(0, 0, 0, 0.15);\n",
              "      filter: drop-shadow(0px 1px 2px rgba(0, 0, 0, 0.3));\n",
              "      fill: #FFFFFF;\n",
              "    }\n",
              "  </style>\n",
              "\n",
              "    <script>\n",
              "      const buttonEl =\n",
              "        document.querySelector('#df-d774577c-9b46-4fd8-9d43-d0113ab9e8ce button.colab-df-convert');\n",
              "      buttonEl.style.display =\n",
              "        google.colab.kernel.accessAllowed ? 'block' : 'none';\n",
              "\n",
              "      async function convertToInteractive(key) {\n",
              "        const element = document.querySelector('#df-d774577c-9b46-4fd8-9d43-d0113ab9e8ce');\n",
              "        const dataTable =\n",
              "          await google.colab.kernel.invokeFunction('convertToInteractive',\n",
              "                                                    [key], {});\n",
              "        if (!dataTable) return;\n",
              "\n",
              "        const docLinkHtml = 'Like what you see? Visit the ' +\n",
              "          '<a target=\"_blank\" href=https://colab.research.google.com/notebooks/data_table.ipynb>data table notebook</a>'\n",
              "          + ' to learn more about interactive tables.';\n",
              "        element.innerHTML = '';\n",
              "        dataTable['output_type'] = 'display_data';\n",
              "        await google.colab.output.renderOutput(dataTable, element);\n",
              "        const docLink = document.createElement('div');\n",
              "        docLink.innerHTML = docLinkHtml;\n",
              "        element.appendChild(docLink);\n",
              "      }\n",
              "    </script>\n",
              "  </div>\n",
              "\n",
              "\n",
              "    <div id=\"df-b1c0289d-baaa-4fb6-b5a6-3fdd801db1b7\">\n",
              "      <button class=\"colab-df-quickchart\" onclick=\"quickchart('df-b1c0289d-baaa-4fb6-b5a6-3fdd801db1b7')\"\n",
              "                title=\"Suggest charts\"\n",
              "                style=\"display:none;\">\n",
              "\n",
              "<svg xmlns=\"http://www.w3.org/2000/svg\" height=\"24px\"viewBox=\"0 0 24 24\"\n",
              "     width=\"24px\">\n",
              "    <g>\n",
              "        <path d=\"M19 3H5c-1.1 0-2 .9-2 2v14c0 1.1.9 2 2 2h14c1.1 0 2-.9 2-2V5c0-1.1-.9-2-2-2zM9 17H7v-7h2v7zm4 0h-2V7h2v10zm4 0h-2v-4h2v4z\"/>\n",
              "    </g>\n",
              "</svg>\n",
              "      </button>\n",
              "\n",
              "<style>\n",
              "  .colab-df-quickchart {\n",
              "      --bg-color: #E8F0FE;\n",
              "      --fill-color: #1967D2;\n",
              "      --hover-bg-color: #E2EBFA;\n",
              "      --hover-fill-color: #174EA6;\n",
              "      --disabled-fill-color: #AAA;\n",
              "      --disabled-bg-color: #DDD;\n",
              "  }\n",
              "\n",
              "  [theme=dark] .colab-df-quickchart {\n",
              "      --bg-color: #3B4455;\n",
              "      --fill-color: #D2E3FC;\n",
              "      --hover-bg-color: #434B5C;\n",
              "      --hover-fill-color: #FFFFFF;\n",
              "      --disabled-bg-color: #3B4455;\n",
              "      --disabled-fill-color: #666;\n",
              "  }\n",
              "\n",
              "  .colab-df-quickchart {\n",
              "    background-color: var(--bg-color);\n",
              "    border: none;\n",
              "    border-radius: 50%;\n",
              "    cursor: pointer;\n",
              "    display: none;\n",
              "    fill: var(--fill-color);\n",
              "    height: 32px;\n",
              "    padding: 0;\n",
              "    width: 32px;\n",
              "  }\n",
              "\n",
              "  .colab-df-quickchart:hover {\n",
              "    background-color: var(--hover-bg-color);\n",
              "    box-shadow: 0 1px 2px rgba(60, 64, 67, 0.3), 0 1px 3px 1px rgba(60, 64, 67, 0.15);\n",
              "    fill: var(--button-hover-fill-color);\n",
              "  }\n",
              "\n",
              "  .colab-df-quickchart-complete:disabled,\n",
              "  .colab-df-quickchart-complete:disabled:hover {\n",
              "    background-color: var(--disabled-bg-color);\n",
              "    fill: var(--disabled-fill-color);\n",
              "    box-shadow: none;\n",
              "  }\n",
              "\n",
              "  .colab-df-spinner {\n",
              "    border: 2px solid var(--fill-color);\n",
              "    border-color: transparent;\n",
              "    border-bottom-color: var(--fill-color);\n",
              "    animation:\n",
              "      spin 1s steps(1) infinite;\n",
              "  }\n",
              "\n",
              "  @keyframes spin {\n",
              "    0% {\n",
              "      border-color: transparent;\n",
              "      border-bottom-color: var(--fill-color);\n",
              "      border-left-color: var(--fill-color);\n",
              "    }\n",
              "    20% {\n",
              "      border-color: transparent;\n",
              "      border-left-color: var(--fill-color);\n",
              "      border-top-color: var(--fill-color);\n",
              "    }\n",
              "    30% {\n",
              "      border-color: transparent;\n",
              "      border-left-color: var(--fill-color);\n",
              "      border-top-color: var(--fill-color);\n",
              "      border-right-color: var(--fill-color);\n",
              "    }\n",
              "    40% {\n",
              "      border-color: transparent;\n",
              "      border-right-color: var(--fill-color);\n",
              "      border-top-color: var(--fill-color);\n",
              "    }\n",
              "    60% {\n",
              "      border-color: transparent;\n",
              "      border-right-color: var(--fill-color);\n",
              "    }\n",
              "    80% {\n",
              "      border-color: transparent;\n",
              "      border-right-color: var(--fill-color);\n",
              "      border-bottom-color: var(--fill-color);\n",
              "    }\n",
              "    90% {\n",
              "      border-color: transparent;\n",
              "      border-bottom-color: var(--fill-color);\n",
              "    }\n",
              "  }\n",
              "</style>\n",
              "\n",
              "      <script>\n",
              "        async function quickchart(key) {\n",
              "          const quickchartButtonEl =\n",
              "            document.querySelector('#' + key + ' button');\n",
              "          quickchartButtonEl.disabled = true;  // To prevent multiple clicks.\n",
              "          quickchartButtonEl.classList.add('colab-df-spinner');\n",
              "          try {\n",
              "            const charts = await google.colab.kernel.invokeFunction(\n",
              "                'suggestCharts', [key], {});\n",
              "          } catch (error) {\n",
              "            console.error('Error during call to suggestCharts:', error);\n",
              "          }\n",
              "          quickchartButtonEl.classList.remove('colab-df-spinner');\n",
              "          quickchartButtonEl.classList.add('colab-df-quickchart-complete');\n",
              "        }\n",
              "        (() => {\n",
              "          let quickchartButtonEl =\n",
              "            document.querySelector('#df-b1c0289d-baaa-4fb6-b5a6-3fdd801db1b7 button');\n",
              "          quickchartButtonEl.style.display =\n",
              "            google.colab.kernel.accessAllowed ? 'block' : 'none';\n",
              "        })();\n",
              "      </script>\n",
              "    </div>\n",
              "\n",
              "    </div>\n",
              "  </div>\n"
            ],
            "application/vnd.google.colaboratory.intrinsic+json": {
              "type": "dataframe",
              "summary": "{\n  \"name\": \"df\",\n  \"rows\": 5,\n  \"fields\": [\n    {\n      \"column\": \"url\",\n      \"properties\": {\n        \"dtype\": \"string\",\n        \"num_unique_values\": 5,\n        \"samples\": [\n          \"https://www.zomato.com/bangalore/1722-urban-bistro-koramangala-5th-block-bangalore?context=eyJzZSI6eyJlIjpbIjYwNTUyIiwiNjA4NTIiLCI1MDc0OCIsIjUyMjIzIiwxODYyMjg5OSwiMTgzNzA1MDQiLCI1NzA5OCIsIjE4NTgyODU5IiwiNTM3NTAiLCI1ODUzNiIsIjE4NTg2MTU5IiwiMTg1NTUwMjQiLCIxODQxNDM3NSIsIjE4MzA0NzQ5IiwiMTg4ODg3NDgiXSwidCI6IkRpbmUtT3V0IFJlc3RhdXJhbnRzIGluIEtvcmFtYW5nYWxhIDR0aCBCbG9jayJ9fQ==\",\n          \"https://www.zomato.com/bangalore/gundappa-donne-biryani-indiranagar?context=eyJzZSI6eyJlIjpbIjUxMDc4IiwiMTg5MzA1MzIiLCIxODc3ODAyNyIsIjU3MjM2IiwxODM0NjMzMywiMTg1MjQ1NTciLCIxODcxMTMwMyIsIjE4NDYzNTY2IiwiNTczMDciLCI1MjM5NCIsIjE4MjI0NjYzIiwiMTg1MTE2ODUiLCIxODA0ODI1NiIsIjE4NzMzMjExIiwiMTg2MTIxMDQiXSwidCI6IkRlbGl2ZXJ5IFJlc3RhdXJhbnRzIGluIE1HIFJvYWQifX0=\",\n          \"https://www.zomato.com/bangalore/ooty-chocolates-whitefield?context=eyJzZSI6eyJlIjpbIjE4OTI2MzEwIiwiMTg3MzI2MzciLCIxODg2Njk0OCIsIjYwNzMwIiw1ODUxNCwiMTg3NjI2OTkiLCIxODg4MTk1MyIsIjE4NTk1OTM5IiwiMTg3Njg2MjAiLCI1MjQwNyIsIjE4NjI0NDU2IiwiMTg4MzMxMDkiLCIxODg0ODcyNSIsIjE4Mzc5NjU1IiwiMTg2NDQ3MTYiLCIxODMzMzEzMiJdLCJ0IjoiRGVsaXZlcnkgUmVzdGF1cmFudHMgaW4gV2hpdGVmaWVsZCJ9fQ==\"\n        ],\n        \"semantic_type\": \"\",\n        \"description\": \"\"\n      }\n    },\n    {\n      \"column\": \"name\",\n      \"properties\": {\n        \"dtype\": \"string\",\n        \"num_unique_values\": 5,\n        \"samples\": [\n          \"1722 Urban Bistro\",\n          \"Gundappa Donne Biryani\",\n          \"Ooty Chocolates\"\n        ],\n        \"semantic_type\": \"\",\n        \"description\": \"\"\n      }\n    },\n    {\n      \"column\": \"online_order\",\n      \"properties\": {\n        \"dtype\": \"category\",\n        \"num_unique_values\": 2,\n        \"samples\": [\n          \"No\",\n          \"Yes\"\n        ],\n        \"semantic_type\": \"\",\n        \"description\": \"\"\n      }\n    },\n    {\n      \"column\": \"book_table\",\n      \"properties\": {\n        \"dtype\": \"category\",\n        \"num_unique_values\": 2,\n        \"samples\": [\n          \"Yes\",\n          \"No\"\n        ],\n        \"semantic_type\": \"\",\n        \"description\": \"\"\n      }\n    },\n    {\n      \"column\": \"rate\",\n      \"properties\": {\n        \"dtype\": \"string\",\n        \"num_unique_values\": 5,\n        \"samples\": [\n          \"4.1 /5\",\n          \"2.6 /5\"\n        ],\n        \"semantic_type\": \"\",\n        \"description\": \"\"\n      }\n    },\n    {\n      \"column\": \"votes\",\n      \"properties\": {\n        \"dtype\": \"number\",\n        \"std\": 151,\n        \"min\": 7,\n        \"max\": 362,\n        \"num_unique_values\": 5,\n        \"samples\": [\n          222,\n          91\n        ],\n        \"semantic_type\": \"\",\n        \"description\": \"\"\n      }\n    },\n    {\n      \"column\": \"location\",\n      \"properties\": {\n        \"dtype\": \"string\",\n        \"num_unique_values\": 5,\n        \"samples\": [\n          \"Koramangala 5th Block\",\n          \"Indiranagar\"\n        ],\n        \"semantic_type\": \"\",\n        \"description\": \"\"\n      }\n    },\n    {\n      \"column\": \"rest_type\",\n      \"properties\": {\n        \"dtype\": \"string\",\n        \"num_unique_values\": 4,\n        \"samples\": [\n          \"Casual Dining\",\n          \"Quick Bites\"\n        ],\n        \"semantic_type\": \"\",\n        \"description\": \"\"\n      }\n    },\n    {\n      \"column\": \"approx_cost(for two people)\",\n      \"properties\": {\n        \"dtype\": \"string\",\n        \"num_unique_values\": 4,\n        \"samples\": [\n          \"600\",\n          \"400\"\n        ],\n        \"semantic_type\": \"\",\n        \"description\": \"\"\n      }\n    },\n    {\n      \"column\": \"listed_in(type)\",\n      \"properties\": {\n        \"dtype\": \"category\",\n        \"num_unique_values\": 2,\n        \"samples\": [\n          \"Dine-out\",\n          \"Delivery\"\n        ],\n        \"semantic_type\": \"\",\n        \"description\": \"\"\n      }\n    }\n  ]\n}"
            }
          },
          "metadata": {},
          "execution_count": 13
        }
      ]
    },
    {
      "cell_type": "code",
      "source": [
        "df['rate'].unique() # This should be floating number , and new and nan should not be there"
      ],
      "metadata": {
        "colab": {
          "base_uri": "https://localhost:8080/"
        },
        "id": "xiFNQA9VJgS-",
        "outputId": "69a4624f-d163-40e6-b43e-c72c1a3626a4"
      },
      "execution_count": 14,
      "outputs": [
        {
          "output_type": "execute_result",
          "data": {
            "text/plain": [
              "array(['4.1/5', '3.8/5', '3.7/5', '3.6/5', '4.6/5', '4.0/5', '4.2/5',\n",
              "       '3.9/5', '3.1/5', '3.0/5', '3.2/5', '3.3/5', '2.8/5', '4.4/5',\n",
              "       '4.3/5', 'NEW', '2.9/5', '3.5/5', nan, '2.6/5', '3.8 /5', '3.4/5',\n",
              "       '4.5/5', '2.5/5', '2.7/5', '4.7/5', '2.4/5', '2.2/5', '2.3/5',\n",
              "       '3.4 /5', '-', '3.6 /5', '4.8/5', '3.9 /5', '4.2 /5', '4.0 /5',\n",
              "       '4.1 /5', '3.7 /5', '3.1 /5', '2.9 /5', '3.3 /5', '2.8 /5',\n",
              "       '3.5 /5', '2.7 /5', '2.5 /5', '3.2 /5', '2.6 /5', '4.5 /5',\n",
              "       '4.3 /5', '4.4 /5', '4.9/5', '2.1/5', '2.0/5', '1.8/5', '4.6 /5',\n",
              "       '4.9 /5', '3.0 /5', '4.8 /5', '2.3 /5', '4.7 /5', '2.4 /5',\n",
              "       '2.1 /5', '2.2 /5', '2.0 /5', '1.8 /5'], dtype=object)"
            ]
          },
          "metadata": {},
          "execution_count": 14
        }
      ]
    },
    {
      "cell_type": "code",
      "source": [
        "float('4.1/5'.split('/')[0])"
      ],
      "metadata": {
        "colab": {
          "base_uri": "https://localhost:8080/"
        },
        "id": "-BaMqULAKRlp",
        "outputId": "a2c15258-c9be-442b-ce39-74ab1d1913ff"
      },
      "execution_count": 15,
      "outputs": [
        {
          "output_type": "execute_result",
          "data": {
            "text/plain": [
              "4.1"
            ]
          },
          "metadata": {},
          "execution_count": 15
        }
      ]
    },
    {
      "cell_type": "code",
      "source": [
        "def cleaning_rate(value):\n",
        "  if value=='NEW' or value=='-':\n",
        "    return np.nan\n",
        "  else :\n",
        "    return float(str(value).split('/')[0])\n"
      ],
      "metadata": {
        "id": "XZvHYPVQJl3b"
      },
      "execution_count": 16,
      "outputs": []
    },
    {
      "cell_type": "code",
      "source": [
        "cleaning_rate('3.2/5')"
      ],
      "metadata": {
        "colab": {
          "base_uri": "https://localhost:8080/"
        },
        "id": "Cpeev0ZiKqnu",
        "outputId": "bf294022-aee7-4527-9eec-7cef6298ad60"
      },
      "execution_count": 17,
      "outputs": [
        {
          "output_type": "execute_result",
          "data": {
            "text/plain": [
              "3.2"
            ]
          },
          "metadata": {},
          "execution_count": 17
        }
      ]
    },
    {
      "cell_type": "code",
      "source": [
        "df['rate']=df['rate'].apply(cleaning_rate)\n",
        "df['rate'].unique()"
      ],
      "metadata": {
        "colab": {
          "base_uri": "https://localhost:8080/"
        },
        "id": "tG-NyEUUKw16",
        "outputId": "b03d45e6-10bd-4224-9870-8450664adddd"
      },
      "execution_count": 18,
      "outputs": [
        {
          "output_type": "execute_result",
          "data": {
            "text/plain": [
              "array([4.1, 3.8, 3.7, 3.6, 4.6, 4. , 4.2, 3.9, 3.1, 3. , 3.2, 3.3, 2.8,\n",
              "       4.4, 4.3, nan, 2.9, 3.5, 2.6, 3.4, 4.5, 2.5, 2.7, 4.7, 2.4, 2.2,\n",
              "       2.3, 4.8, 4.9, 2.1, 2. , 1.8])"
            ]
          },
          "metadata": {},
          "execution_count": 18
        }
      ]
    },
    {
      "cell_type": "code",
      "source": [
        "df.isna().sum() # checking the null values"
      ],
      "metadata": {
        "colab": {
          "base_uri": "https://localhost:8080/",
          "height": 397
        },
        "id": "FLRslTacLReR",
        "outputId": "6be27373-2385-4224-a31a-2af84e71caf0"
      },
      "execution_count": 19,
      "outputs": [
        {
          "output_type": "execute_result",
          "data": {
            "text/plain": [
              "url                                0\n",
              "name                               0\n",
              "online_order                       0\n",
              "book_table                         0\n",
              "rate                           10052\n",
              "votes                              0\n",
              "location                          21\n",
              "rest_type                        227\n",
              "approx_cost(for two people)      346\n",
              "listed_in(type)                    0\n",
              "dtype: int64"
            ],
            "text/html": [
              "<div>\n",
              "<style scoped>\n",
              "    .dataframe tbody tr th:only-of-type {\n",
              "        vertical-align: middle;\n",
              "    }\n",
              "\n",
              "    .dataframe tbody tr th {\n",
              "        vertical-align: top;\n",
              "    }\n",
              "\n",
              "    .dataframe thead th {\n",
              "        text-align: right;\n",
              "    }\n",
              "</style>\n",
              "<table border=\"1\" class=\"dataframe\">\n",
              "  <thead>\n",
              "    <tr style=\"text-align: right;\">\n",
              "      <th></th>\n",
              "      <th>0</th>\n",
              "    </tr>\n",
              "  </thead>\n",
              "  <tbody>\n",
              "    <tr>\n",
              "      <th>url</th>\n",
              "      <td>0</td>\n",
              "    </tr>\n",
              "    <tr>\n",
              "      <th>name</th>\n",
              "      <td>0</td>\n",
              "    </tr>\n",
              "    <tr>\n",
              "      <th>online_order</th>\n",
              "      <td>0</td>\n",
              "    </tr>\n",
              "    <tr>\n",
              "      <th>book_table</th>\n",
              "      <td>0</td>\n",
              "    </tr>\n",
              "    <tr>\n",
              "      <th>rate</th>\n",
              "      <td>10052</td>\n",
              "    </tr>\n",
              "    <tr>\n",
              "      <th>votes</th>\n",
              "      <td>0</td>\n",
              "    </tr>\n",
              "    <tr>\n",
              "      <th>location</th>\n",
              "      <td>21</td>\n",
              "    </tr>\n",
              "    <tr>\n",
              "      <th>rest_type</th>\n",
              "      <td>227</td>\n",
              "    </tr>\n",
              "    <tr>\n",
              "      <th>approx_cost(for two people)</th>\n",
              "      <td>346</td>\n",
              "    </tr>\n",
              "    <tr>\n",
              "      <th>listed_in(type)</th>\n",
              "      <td>0</td>\n",
              "    </tr>\n",
              "  </tbody>\n",
              "</table>\n",
              "</div><br><label><b>dtype:</b> int64</label>"
            ]
          },
          "metadata": {},
          "execution_count": 19
        }
      ]
    },
    {
      "cell_type": "code",
      "source": [
        "df['rate']=df['rate'].fillna(np.round(df['rate'].mean(),1))"
      ],
      "metadata": {
        "id": "s4g-Qw_LLaJ3"
      },
      "execution_count": 20,
      "outputs": []
    },
    {
      "cell_type": "code",
      "source": [
        "df.isna().sum()"
      ],
      "metadata": {
        "colab": {
          "base_uri": "https://localhost:8080/",
          "height": 397
        },
        "id": "EtRVJ_HUL8ew",
        "outputId": "35717708-89ac-45fc-efb5-ca5beb1b6784"
      },
      "execution_count": 21,
      "outputs": [
        {
          "output_type": "execute_result",
          "data": {
            "text/plain": [
              "url                              0\n",
              "name                             0\n",
              "online_order                     0\n",
              "book_table                       0\n",
              "rate                             0\n",
              "votes                            0\n",
              "location                        21\n",
              "rest_type                      227\n",
              "approx_cost(for two people)    346\n",
              "listed_in(type)                  0\n",
              "dtype: int64"
            ],
            "text/html": [
              "<div>\n",
              "<style scoped>\n",
              "    .dataframe tbody tr th:only-of-type {\n",
              "        vertical-align: middle;\n",
              "    }\n",
              "\n",
              "    .dataframe tbody tr th {\n",
              "        vertical-align: top;\n",
              "    }\n",
              "\n",
              "    .dataframe thead th {\n",
              "        text-align: right;\n",
              "    }\n",
              "</style>\n",
              "<table border=\"1\" class=\"dataframe\">\n",
              "  <thead>\n",
              "    <tr style=\"text-align: right;\">\n",
              "      <th></th>\n",
              "      <th>0</th>\n",
              "    </tr>\n",
              "  </thead>\n",
              "  <tbody>\n",
              "    <tr>\n",
              "      <th>url</th>\n",
              "      <td>0</td>\n",
              "    </tr>\n",
              "    <tr>\n",
              "      <th>name</th>\n",
              "      <td>0</td>\n",
              "    </tr>\n",
              "    <tr>\n",
              "      <th>online_order</th>\n",
              "      <td>0</td>\n",
              "    </tr>\n",
              "    <tr>\n",
              "      <th>book_table</th>\n",
              "      <td>0</td>\n",
              "    </tr>\n",
              "    <tr>\n",
              "      <th>rate</th>\n",
              "      <td>0</td>\n",
              "    </tr>\n",
              "    <tr>\n",
              "      <th>votes</th>\n",
              "      <td>0</td>\n",
              "    </tr>\n",
              "    <tr>\n",
              "      <th>location</th>\n",
              "      <td>21</td>\n",
              "    </tr>\n",
              "    <tr>\n",
              "      <th>rest_type</th>\n",
              "      <td>227</td>\n",
              "    </tr>\n",
              "    <tr>\n",
              "      <th>approx_cost(for two people)</th>\n",
              "      <td>346</td>\n",
              "    </tr>\n",
              "    <tr>\n",
              "      <th>listed_in(type)</th>\n",
              "      <td>0</td>\n",
              "    </tr>\n",
              "  </tbody>\n",
              "</table>\n",
              "</div><br><label><b>dtype:</b> int64</label>"
            ]
          },
          "metadata": {},
          "execution_count": 21
        }
      ]
    },
    {
      "cell_type": "code",
      "source": [
        "#in rate column , the null value is removed"
      ],
      "metadata": {
        "id": "Cxr1amBgL_MQ"
      },
      "execution_count": 22,
      "outputs": []
    },
    {
      "cell_type": "code",
      "source": [
        "df=df.dropna() #dropped nan vlaues"
      ],
      "metadata": {
        "id": "r7SDB986MFBF"
      },
      "execution_count": 23,
      "outputs": []
    },
    {
      "cell_type": "code",
      "source": [
        "51717-51167"
      ],
      "metadata": {
        "colab": {
          "base_uri": "https://localhost:8080/"
        },
        "id": "yDEYIX13MJGd",
        "outputId": "44e7ecf2-72fc-4ad5-e110-035b00e927d1"
      },
      "execution_count": 24,
      "outputs": [
        {
          "output_type": "execute_result",
          "data": {
            "text/plain": [
              "550"
            ]
          },
          "metadata": {},
          "execution_count": 24
        }
      ]
    },
    {
      "cell_type": "code",
      "source": [
        "550/51717*100"
      ],
      "metadata": {
        "colab": {
          "base_uri": "https://localhost:8080/"
        },
        "id": "cVDX78j1MUDI",
        "outputId": "1dff53af-f43f-47d0-f00f-8504a678f86b"
      },
      "execution_count": 25,
      "outputs": [
        {
          "output_type": "execute_result",
          "data": {
            "text/plain": [
              "1.0634800935862483"
            ]
          },
          "metadata": {},
          "execution_count": 25
        }
      ]
    },
    {
      "cell_type": "code",
      "source": [
        "#only 1% of the data is droped , so thats not a big isssue , this can be done , but there , 20% of the vlaues would have be droped\n",
        "# thats why we filled the nan values with the mean"
      ],
      "metadata": {
        "id": "o-blDpNIMXcm"
      },
      "execution_count": 26,
      "outputs": []
    },
    {
      "cell_type": "code",
      "source": [
        "#checking duplicates rows\n",
        "df.duplicated().sum()"
      ],
      "metadata": {
        "colab": {
          "base_uri": "https://localhost:8080/"
        },
        "id": "nQb8f9dGMkNi",
        "outputId": "1f226bab-f0a5-4817-88a9-2f01c57a7ae1"
      },
      "execution_count": 27,
      "outputs": [
        {
          "output_type": "execute_result",
          "data": {
            "text/plain": [
              "np.int64(0)"
            ]
          },
          "metadata": {},
          "execution_count": 27
        }
      ]
    },
    {
      "cell_type": "code",
      "source": [
        "df.info()"
      ],
      "metadata": {
        "colab": {
          "base_uri": "https://localhost:8080/"
        },
        "id": "C5mLGClzMwnD",
        "outputId": "a6a7dafb-a02f-449d-d97f-0ade608dce73"
      },
      "execution_count": 28,
      "outputs": [
        {
          "output_type": "stream",
          "name": "stdout",
          "text": [
            "<class 'pandas.core.frame.DataFrame'>\n",
            "Index: 51167 entries, 0 to 51716\n",
            "Data columns (total 10 columns):\n",
            " #   Column                       Non-Null Count  Dtype  \n",
            "---  ------                       --------------  -----  \n",
            " 0   url                          51167 non-null  object \n",
            " 1   name                         51167 non-null  object \n",
            " 2   online_order                 51167 non-null  object \n",
            " 3   book_table                   51167 non-null  object \n",
            " 4   rate                         51167 non-null  float64\n",
            " 5   votes                        51167 non-null  int64  \n",
            " 6   location                     51167 non-null  object \n",
            " 7   rest_type                    51167 non-null  object \n",
            " 8   approx_cost(for two people)  51167 non-null  object \n",
            " 9   listed_in(type)              51167 non-null  object \n",
            "dtypes: float64(1), int64(1), object(8)\n",
            "memory usage: 4.3+ MB\n"
          ]
        }
      ]
    },
    {
      "cell_type": "code",
      "source": [
        "df['approx_cost(for two people)'].unique() # to chekc the type of values in the columns #astype() use krna possible nhi tha"
      ],
      "metadata": {
        "colab": {
          "base_uri": "https://localhost:8080/"
        },
        "id": "qbD-TFpKMzcn",
        "outputId": "fbb8dc94-ea6a-449b-b195-50852838e3a5"
      },
      "execution_count": 29,
      "outputs": [
        {
          "output_type": "execute_result",
          "data": {
            "text/plain": [
              "array(['800', '300', '600', '700', '550', '500', '450', '650', '400',\n",
              "       '900', '200', '750', '150', '850', '100', '1,200', '350', '250',\n",
              "       '950', '1,000', '1,500', '1,300', '199', '80', '1,100', '160',\n",
              "       '1,600', '230', '130', '50', '190', '1,700', '1,400', '180',\n",
              "       '1,350', '2,200', '2,000', '1,800', '1,900', '330', '2,500',\n",
              "       '2,100', '3,000', '2,800', '3,400', '40', '1,250', '3,500',\n",
              "       '4,000', '2,400', '2,600', '120', '1,450', '469', '70', '3,200',\n",
              "       '60', '560', '240', '360', '6,000', '1,050', '2,300', '4,100',\n",
              "       '5,000', '3,700', '1,650', '2,700', '4,500', '140'], dtype=object)"
            ]
          },
          "metadata": {},
          "execution_count": 29
        }
      ]
    },
    {
      "cell_type": "code",
      "source": [
        "def cleaned_cost(value):\n",
        "  if ',' in value:\n",
        "    value=value.replace(',','')\n",
        "    return float(value)\n",
        "  else:\n",
        "    return float(value)"
      ],
      "metadata": {
        "id": "JpvCmhlONA5_"
      },
      "execution_count": 30,
      "outputs": []
    },
    {
      "cell_type": "code",
      "source": [
        "df['approx_cost(for two people)']=df['approx_cost(for two people)'].apply(cleaned_cost)\n",
        "df.info()"
      ],
      "metadata": {
        "colab": {
          "base_uri": "https://localhost:8080/"
        },
        "id": "SIVcsOpKNh1H",
        "outputId": "2621ac21-43bf-45c0-972b-ac7ec0056867"
      },
      "execution_count": 31,
      "outputs": [
        {
          "output_type": "stream",
          "name": "stdout",
          "text": [
            "<class 'pandas.core.frame.DataFrame'>\n",
            "Index: 51167 entries, 0 to 51716\n",
            "Data columns (total 10 columns):\n",
            " #   Column                       Non-Null Count  Dtype  \n",
            "---  ------                       --------------  -----  \n",
            " 0   url                          51167 non-null  object \n",
            " 1   name                         51167 non-null  object \n",
            " 2   online_order                 51167 non-null  object \n",
            " 3   book_table                   51167 non-null  object \n",
            " 4   rate                         51167 non-null  float64\n",
            " 5   votes                        51167 non-null  int64  \n",
            " 6   location                     51167 non-null  object \n",
            " 7   rest_type                    51167 non-null  object \n",
            " 8   approx_cost(for two people)  51167 non-null  float64\n",
            " 9   listed_in(type)              51167 non-null  object \n",
            "dtypes: float64(2), int64(1), object(7)\n",
            "memory usage: 4.3+ MB\n"
          ]
        }
      ]
    },
    {
      "cell_type": "code",
      "source": [
        "# Mutlplie resturant types\n",
        "restaurant_type=df['rest_type'].value_counts()"
      ],
      "metadata": {
        "id": "ngMSEMLrNrq2"
      },
      "execution_count": 32,
      "outputs": []
    },
    {
      "cell_type": "code",
      "source": [
        "type_below_500=restaurant_type[restaurant_type<500]"
      ],
      "metadata": {
        "id": "EdMw2zQeP7dZ"
      },
      "execution_count": 33,
      "outputs": []
    },
    {
      "cell_type": "code",
      "source": [
        "def cleaned_type(value):\n",
        "  if (value in type_below_500):\n",
        "    return 'others'\n",
        "  else :\n",
        "    return value"
      ],
      "metadata": {
        "id": "BlFVRYvMQOIa"
      },
      "execution_count": 34,
      "outputs": []
    },
    {
      "cell_type": "code",
      "source": [
        "df['rest_type']=df['rest_type'].apply(cleaned_type)\n",
        "df['rest_type'].value_counts()"
      ],
      "metadata": {
        "colab": {
          "base_uri": "https://localhost:8080/",
          "height": 491
        },
        "id": "wB6DCJNUQfw9",
        "outputId": "c625d147-b7ad-4c4e-b15d-c8e0c7199543"
      },
      "execution_count": 35,
      "outputs": [
        {
          "output_type": "execute_result",
          "data": {
            "text/plain": [
              "rest_type\n",
              "Quick Bites           19048\n",
              "Casual Dining         10275\n",
              "others                 6860\n",
              "Cafe                   3687\n",
              "Delivery               2587\n",
              "Dessert Parlor         2245\n",
              "Takeaway, Delivery     2016\n",
              "Bakery                 1141\n",
              "Casual Dining, Bar     1136\n",
              "Beverage Shop           867\n",
              "Bar                     686\n",
              "Food Court              619\n",
              "Name: count, dtype: int64"
            ],
            "text/html": [
              "<div>\n",
              "<style scoped>\n",
              "    .dataframe tbody tr th:only-of-type {\n",
              "        vertical-align: middle;\n",
              "    }\n",
              "\n",
              "    .dataframe tbody tr th {\n",
              "        vertical-align: top;\n",
              "    }\n",
              "\n",
              "    .dataframe thead th {\n",
              "        text-align: right;\n",
              "    }\n",
              "</style>\n",
              "<table border=\"1\" class=\"dataframe\">\n",
              "  <thead>\n",
              "    <tr style=\"text-align: right;\">\n",
              "      <th></th>\n",
              "      <th>count</th>\n",
              "    </tr>\n",
              "    <tr>\n",
              "      <th>rest_type</th>\n",
              "      <th></th>\n",
              "    </tr>\n",
              "  </thead>\n",
              "  <tbody>\n",
              "    <tr>\n",
              "      <th>Quick Bites</th>\n",
              "      <td>19048</td>\n",
              "    </tr>\n",
              "    <tr>\n",
              "      <th>Casual Dining</th>\n",
              "      <td>10275</td>\n",
              "    </tr>\n",
              "    <tr>\n",
              "      <th>others</th>\n",
              "      <td>6860</td>\n",
              "    </tr>\n",
              "    <tr>\n",
              "      <th>Cafe</th>\n",
              "      <td>3687</td>\n",
              "    </tr>\n",
              "    <tr>\n",
              "      <th>Delivery</th>\n",
              "      <td>2587</td>\n",
              "    </tr>\n",
              "    <tr>\n",
              "      <th>Dessert Parlor</th>\n",
              "      <td>2245</td>\n",
              "    </tr>\n",
              "    <tr>\n",
              "      <th>Takeaway, Delivery</th>\n",
              "      <td>2016</td>\n",
              "    </tr>\n",
              "    <tr>\n",
              "      <th>Bakery</th>\n",
              "      <td>1141</td>\n",
              "    </tr>\n",
              "    <tr>\n",
              "      <th>Casual Dining, Bar</th>\n",
              "      <td>1136</td>\n",
              "    </tr>\n",
              "    <tr>\n",
              "      <th>Beverage Shop</th>\n",
              "      <td>867</td>\n",
              "    </tr>\n",
              "    <tr>\n",
              "      <th>Bar</th>\n",
              "      <td>686</td>\n",
              "    </tr>\n",
              "    <tr>\n",
              "      <th>Food Court</th>\n",
              "      <td>619</td>\n",
              "    </tr>\n",
              "  </tbody>\n",
              "</table>\n",
              "</div><br><label><b>dtype:</b> int64</label>"
            ]
          },
          "metadata": {},
          "execution_count": 35
        }
      ]
    },
    {
      "cell_type": "code",
      "source": [
        "df['location'].value_counts()"
      ],
      "metadata": {
        "colab": {
          "base_uri": "https://localhost:8080/",
          "height": 489
        },
        "id": "ePFDiRfOQl3a",
        "outputId": "a47ce6f1-7b97-4516-828c-e300848f9af2"
      },
      "execution_count": 36,
      "outputs": [
        {
          "output_type": "execute_result",
          "data": {
            "text/plain": [
              "location\n",
              "BTM                      5071\n",
              "HSR                      2496\n",
              "Koramangala 5th Block    2481\n",
              "JP Nagar                 2219\n",
              "Whitefield               2117\n",
              "                         ... \n",
              "West Bangalore              6\n",
              "Yelahanka                   5\n",
              "Jakkur                      3\n",
              "Rajarajeshwari Nagar        2\n",
              "Peenya                      1\n",
              "Name: count, Length: 93, dtype: int64"
            ],
            "text/html": [
              "<div>\n",
              "<style scoped>\n",
              "    .dataframe tbody tr th:only-of-type {\n",
              "        vertical-align: middle;\n",
              "    }\n",
              "\n",
              "    .dataframe tbody tr th {\n",
              "        vertical-align: top;\n",
              "    }\n",
              "\n",
              "    .dataframe thead th {\n",
              "        text-align: right;\n",
              "    }\n",
              "</style>\n",
              "<table border=\"1\" class=\"dataframe\">\n",
              "  <thead>\n",
              "    <tr style=\"text-align: right;\">\n",
              "      <th></th>\n",
              "      <th>count</th>\n",
              "    </tr>\n",
              "    <tr>\n",
              "      <th>location</th>\n",
              "      <th></th>\n",
              "    </tr>\n",
              "  </thead>\n",
              "  <tbody>\n",
              "    <tr>\n",
              "      <th>BTM</th>\n",
              "      <td>5071</td>\n",
              "    </tr>\n",
              "    <tr>\n",
              "      <th>HSR</th>\n",
              "      <td>2496</td>\n",
              "    </tr>\n",
              "    <tr>\n",
              "      <th>Koramangala 5th Block</th>\n",
              "      <td>2481</td>\n",
              "    </tr>\n",
              "    <tr>\n",
              "      <th>JP Nagar</th>\n",
              "      <td>2219</td>\n",
              "    </tr>\n",
              "    <tr>\n",
              "      <th>Whitefield</th>\n",
              "      <td>2117</td>\n",
              "    </tr>\n",
              "    <tr>\n",
              "      <th>...</th>\n",
              "      <td>...</td>\n",
              "    </tr>\n",
              "    <tr>\n",
              "      <th>West Bangalore</th>\n",
              "      <td>6</td>\n",
              "    </tr>\n",
              "    <tr>\n",
              "      <th>Yelahanka</th>\n",
              "      <td>5</td>\n",
              "    </tr>\n",
              "    <tr>\n",
              "      <th>Jakkur</th>\n",
              "      <td>3</td>\n",
              "    </tr>\n",
              "    <tr>\n",
              "      <th>Rajarajeshwari Nagar</th>\n",
              "      <td>2</td>\n",
              "    </tr>\n",
              "    <tr>\n",
              "      <th>Peenya</th>\n",
              "      <td>1</td>\n",
              "    </tr>\n",
              "  </tbody>\n",
              "</table>\n",
              "<p>93 rows × 1 columns</p>\n",
              "</div><br><label><b>dtype:</b> int64</label>"
            ]
          },
          "metadata": {},
          "execution_count": 36
        }
      ]
    },
    {
      "cell_type": "code",
      "source": [
        "res_loc=df['location'].value_counts()\n",
        "loc_below_200=res_loc[res_loc<200]"
      ],
      "metadata": {
        "id": "L6Ko9PicRG_3"
      },
      "execution_count": 37,
      "outputs": []
    },
    {
      "cell_type": "code",
      "source": [
        "def cleaning_location(loc):\n",
        "  if loc in loc_below_200:\n",
        "    return 'Others'\n",
        "  elif 'Koramangala' in loc :\n",
        "    return 'Koramangala'\n",
        "  else :\n",
        "    return loc"
      ],
      "metadata": {
        "id": "8dUpIOvPR14j"
      },
      "execution_count": 38,
      "outputs": []
    },
    {
      "cell_type": "code",
      "source": [
        "df['location']=df['location'].apply(cleaning_location)\n",
        "df['location'].value_counts()"
      ],
      "metadata": {
        "colab": {
          "base_uri": "https://localhost:8080/",
          "height": 1000
        },
        "id": "a_tElX7LSBu-",
        "outputId": "06dea46d-8108-42a9-c641-ec4ffe80c678"
      },
      "execution_count": 39,
      "outputs": [
        {
          "output_type": "execute_result",
          "data": {
            "text/plain": [
              "location\n",
              "Koramangala           7550\n",
              "BTM                   5071\n",
              "Others                3412\n",
              "HSR                   2496\n",
              "JP Nagar              2219\n",
              "Whitefield            2117\n",
              "Indiranagar           2033\n",
              "Jayanagar             1916\n",
              "Marathahalli          1811\n",
              "Bannerghatta Road     1611\n",
              "Bellandur             1271\n",
              "Electronic City       1249\n",
              "Brigade Road          1218\n",
              "Sarjapur Road         1049\n",
              "Ulsoor                1017\n",
              "Banashankari           906\n",
              "MG Road                894\n",
              "Kalyan Nagar           843\n",
              "Richmond Road          804\n",
              "Malleshwaram           724\n",
              "Frazer Town            720\n",
              "Basavanagudi           684\n",
              "Residency Road         674\n",
              "Brookefield            656\n",
              "Banaswadi              645\n",
              "New BEL Road           644\n",
              "Kammanahalli           640\n",
              "Rajajinagar            591\n",
              "Church Street          569\n",
              "Lavelle Road           523\n",
              "Shanti Nagar           511\n",
              "Shivajinagar           499\n",
              "Cunningham Road        491\n",
              "Domlur                 482\n",
              "Old Airport Road       437\n",
              "Ejipura                434\n",
              "Commercial Street      370\n",
              "St. Marks Road         343\n",
              "Vasanth Nagar          293\n",
              "Jeevan Bhima Nagar     268\n",
              "Wilson Garden          246\n",
              "Bommanahalli           236\n",
              "Name: count, dtype: int64"
            ],
            "text/html": [
              "<div>\n",
              "<style scoped>\n",
              "    .dataframe tbody tr th:only-of-type {\n",
              "        vertical-align: middle;\n",
              "    }\n",
              "\n",
              "    .dataframe tbody tr th {\n",
              "        vertical-align: top;\n",
              "    }\n",
              "\n",
              "    .dataframe thead th {\n",
              "        text-align: right;\n",
              "    }\n",
              "</style>\n",
              "<table border=\"1\" class=\"dataframe\">\n",
              "  <thead>\n",
              "    <tr style=\"text-align: right;\">\n",
              "      <th></th>\n",
              "      <th>count</th>\n",
              "    </tr>\n",
              "    <tr>\n",
              "      <th>location</th>\n",
              "      <th></th>\n",
              "    </tr>\n",
              "  </thead>\n",
              "  <tbody>\n",
              "    <tr>\n",
              "      <th>Koramangala</th>\n",
              "      <td>7550</td>\n",
              "    </tr>\n",
              "    <tr>\n",
              "      <th>BTM</th>\n",
              "      <td>5071</td>\n",
              "    </tr>\n",
              "    <tr>\n",
              "      <th>Others</th>\n",
              "      <td>3412</td>\n",
              "    </tr>\n",
              "    <tr>\n",
              "      <th>HSR</th>\n",
              "      <td>2496</td>\n",
              "    </tr>\n",
              "    <tr>\n",
              "      <th>JP Nagar</th>\n",
              "      <td>2219</td>\n",
              "    </tr>\n",
              "    <tr>\n",
              "      <th>Whitefield</th>\n",
              "      <td>2117</td>\n",
              "    </tr>\n",
              "    <tr>\n",
              "      <th>Indiranagar</th>\n",
              "      <td>2033</td>\n",
              "    </tr>\n",
              "    <tr>\n",
              "      <th>Jayanagar</th>\n",
              "      <td>1916</td>\n",
              "    </tr>\n",
              "    <tr>\n",
              "      <th>Marathahalli</th>\n",
              "      <td>1811</td>\n",
              "    </tr>\n",
              "    <tr>\n",
              "      <th>Bannerghatta Road</th>\n",
              "      <td>1611</td>\n",
              "    </tr>\n",
              "    <tr>\n",
              "      <th>Bellandur</th>\n",
              "      <td>1271</td>\n",
              "    </tr>\n",
              "    <tr>\n",
              "      <th>Electronic City</th>\n",
              "      <td>1249</td>\n",
              "    </tr>\n",
              "    <tr>\n",
              "      <th>Brigade Road</th>\n",
              "      <td>1218</td>\n",
              "    </tr>\n",
              "    <tr>\n",
              "      <th>Sarjapur Road</th>\n",
              "      <td>1049</td>\n",
              "    </tr>\n",
              "    <tr>\n",
              "      <th>Ulsoor</th>\n",
              "      <td>1017</td>\n",
              "    </tr>\n",
              "    <tr>\n",
              "      <th>Banashankari</th>\n",
              "      <td>906</td>\n",
              "    </tr>\n",
              "    <tr>\n",
              "      <th>MG Road</th>\n",
              "      <td>894</td>\n",
              "    </tr>\n",
              "    <tr>\n",
              "      <th>Kalyan Nagar</th>\n",
              "      <td>843</td>\n",
              "    </tr>\n",
              "    <tr>\n",
              "      <th>Richmond Road</th>\n",
              "      <td>804</td>\n",
              "    </tr>\n",
              "    <tr>\n",
              "      <th>Malleshwaram</th>\n",
              "      <td>724</td>\n",
              "    </tr>\n",
              "    <tr>\n",
              "      <th>Frazer Town</th>\n",
              "      <td>720</td>\n",
              "    </tr>\n",
              "    <tr>\n",
              "      <th>Basavanagudi</th>\n",
              "      <td>684</td>\n",
              "    </tr>\n",
              "    <tr>\n",
              "      <th>Residency Road</th>\n",
              "      <td>674</td>\n",
              "    </tr>\n",
              "    <tr>\n",
              "      <th>Brookefield</th>\n",
              "      <td>656</td>\n",
              "    </tr>\n",
              "    <tr>\n",
              "      <th>Banaswadi</th>\n",
              "      <td>645</td>\n",
              "    </tr>\n",
              "    <tr>\n",
              "      <th>New BEL Road</th>\n",
              "      <td>644</td>\n",
              "    </tr>\n",
              "    <tr>\n",
              "      <th>Kammanahalli</th>\n",
              "      <td>640</td>\n",
              "    </tr>\n",
              "    <tr>\n",
              "      <th>Rajajinagar</th>\n",
              "      <td>591</td>\n",
              "    </tr>\n",
              "    <tr>\n",
              "      <th>Church Street</th>\n",
              "      <td>569</td>\n",
              "    </tr>\n",
              "    <tr>\n",
              "      <th>Lavelle Road</th>\n",
              "      <td>523</td>\n",
              "    </tr>\n",
              "    <tr>\n",
              "      <th>Shanti Nagar</th>\n",
              "      <td>511</td>\n",
              "    </tr>\n",
              "    <tr>\n",
              "      <th>Shivajinagar</th>\n",
              "      <td>499</td>\n",
              "    </tr>\n",
              "    <tr>\n",
              "      <th>Cunningham Road</th>\n",
              "      <td>491</td>\n",
              "    </tr>\n",
              "    <tr>\n",
              "      <th>Domlur</th>\n",
              "      <td>482</td>\n",
              "    </tr>\n",
              "    <tr>\n",
              "      <th>Old Airport Road</th>\n",
              "      <td>437</td>\n",
              "    </tr>\n",
              "    <tr>\n",
              "      <th>Ejipura</th>\n",
              "      <td>434</td>\n",
              "    </tr>\n",
              "    <tr>\n",
              "      <th>Commercial Street</th>\n",
              "      <td>370</td>\n",
              "    </tr>\n",
              "    <tr>\n",
              "      <th>St. Marks Road</th>\n",
              "      <td>343</td>\n",
              "    </tr>\n",
              "    <tr>\n",
              "      <th>Vasanth Nagar</th>\n",
              "      <td>293</td>\n",
              "    </tr>\n",
              "    <tr>\n",
              "      <th>Jeevan Bhima Nagar</th>\n",
              "      <td>268</td>\n",
              "    </tr>\n",
              "    <tr>\n",
              "      <th>Wilson Garden</th>\n",
              "      <td>246</td>\n",
              "    </tr>\n",
              "    <tr>\n",
              "      <th>Bommanahalli</th>\n",
              "      <td>236</td>\n",
              "    </tr>\n",
              "  </tbody>\n",
              "</table>\n",
              "</div><br><label><b>dtype:</b> int64</label>"
            ]
          },
          "metadata": {},
          "execution_count": 39
        }
      ]
    },
    {
      "cell_type": "markdown",
      "source": [
        "# Restaurants delivering or not"
      ],
      "metadata": {
        "id": "R2P6WZE0TMjX"
      }
    },
    {
      "cell_type": "code",
      "source": [
        "df['online_order'].value_counts().plot(kind='bar')\n",
        "plt.title(\"Delievering or not\")"
      ],
      "metadata": {
        "colab": {
          "base_uri": "https://localhost:8080/",
          "height": 498
        },
        "id": "e0RddtzbSIFd",
        "outputId": "f25bfd27-66f4-4bbe-f212-ea063651a0be"
      },
      "execution_count": 40,
      "outputs": [
        {
          "output_type": "execute_result",
          "data": {
            "text/plain": [
              "Text(0.5, 1.0, 'Delievering or not')"
            ]
          },
          "metadata": {},
          "execution_count": 40
        },
        {
          "output_type": "display_data",
          "data": {
            "text/plain": [
              "<Figure size 640x480 with 1 Axes>"
            ],
            "image/png": "[encoded data removed]"
          },
          "metadata": {}
        }
      ]
    },
    {
      "cell_type": "code",
      "source": [],
      "metadata": {
        "id": "8bgA0F5PUK9c"
      },
      "execution_count": 40,
      "outputs": []
    },
    {
      "cell_type": "code",
      "source": [],
      "metadata": {
        "id": "_LfvuTsMULRW"
      },
      "execution_count": 40,
      "outputs": []
    },
    {
      "cell_type": "code",
      "source": [
        "plt.pie(df['book_table'].value_counts().values,labels=df['book_table'].value_counts().index,autopct='%1.2f%%',shadow=True)\n",
        "plt.show()"
      ],
      "metadata": {
        "colab": {
          "base_uri": "https://localhost:8080/",
          "height": 406
        },
        "id": "35b3LzwITcZm",
        "outputId": "edfed273-7e7b-49f6-98f6-b4705c6ca5cf"
      },
      "execution_count": 41,
      "outputs": [
        {
          "output_type": "display_data",
          "data": {
            "text/plain": [
              "<Figure size 640x480 with 1 Axes>"
            ],
            "image/png": "[encoded data removed]"
          },
          "metadata": {}
        }
      ]
    },
    {
      "cell_type": "code",
      "source": [
        "plt.figure(figsize=(14,4))\n",
        "df['location'].value_counts().plot(kind='bar')"
      ],
      "metadata": {
        "colab": {
          "base_uri": "https://localhost:8080/",
          "height": 491
        },
        "id": "aDa5DYInTzR0",
        "outputId": "9ef2752d-e09f-46f4-e352-1bf241f29fd7"
      },
      "execution_count": 42,
      "outputs": [
        {
          "output_type": "execute_result",
          "data": {
            "text/plain": [
              "<Axes: xlabel='location'>"
            ]
          },
          "metadata": {},
          "execution_count": 42
        },
        {
          "output_type": "display_data",
          "data": {
            "text/plain": [
              "<Figure size 1400x400 with 1 Axes>"
            ],
            "image/png": "[encoded data removed]"
          },
          "metadata": {}
        }
      ]
    },
    {
      "cell_type": "code",
      "source": [
        "plt.figure(figsize=(14,4))\n",
        "df['rest_type'].value_counts().plot(kind='barh',color=sns.color_palette('dark'))"
      ],
      "metadata": {
        "colab": {
          "base_uri": "https://localhost:8080/",
          "height": 321
        },
        "id": "hslpbNBvWxv7",
        "outputId": "ea606911-76e6-46f4-c0c3-993f2315c007"
      },
      "execution_count": 43,
      "outputs": [
        {
          "output_type": "execute_result",
          "data": {
            "text/plain": [
              "<Axes: ylabel='rest_type'>"
            ]
          },
          "metadata": {},
          "execution_count": 43
        },
        {
          "output_type": "display_data",
          "data": {
            "text/plain": [
              "<Figure size 1400x400 with 1 Axes>"
            ],
            "image/png": "[encoded data removed]"
          },
          "metadata": {}
        }
      ]
    },
    {
      "cell_type": "code",
      "source": [
        "res_cost=df['approx_cost(for two people)'].groupby(df['name'],sort=True)\n",
        "dict1={}\n",
        "for i ,j in df['name'].value_counts()[:10].to_dict().items():\n",
        "  dict1[i]=np.round(res_cost.get_group(i).mean(),2)"
      ],
      "metadata": {
        "id": "z_frKKTQXb93"
      },
      "execution_count": 44,
      "outputs": []
    },
    {
      "cell_type": "code",
      "source": [
        "dict1"
      ],
      "metadata": {
        "colab": {
          "base_uri": "https://localhost:8080/"
        },
        "id": "8zfs_LlOggf2",
        "outputId": "d949cb78-5ded-41c6-d9d6-4f902890efd6"
      },
      "execution_count": 45,
      "outputs": [
        {
          "output_type": "execute_result",
          "data": {
            "text/plain": [
              "{'Cafe Coffee Day': np.float64(844.79),\n",
              " 'Onesta': np.float64(600.0),\n",
              " 'Just Bake': np.float64(400.0),\n",
              " 'Empire Restaurant': np.float64(685.21),\n",
              " 'Five Star Chicken': np.float64(257.86),\n",
              " 'Kanti Sweets': np.float64(400.0),\n",
              " 'Petoo': np.float64(659.85),\n",
              " 'Polar Bear': np.float64(361.54),\n",
              " 'Baskin Robbins': np.float64(251.56),\n",
              " 'Pizza Hut': np.float64(736.29)}"
            ]
          },
          "metadata": {},
          "execution_count": 45
        }
      ]
    },
    {
      "cell_type": "code",
      "source": [
        "#now converting the dictionary into lists\n",
        "list(dict1.items())"
      ],
      "metadata": {
        "colab": {
          "base_uri": "https://localhost:8080/"
        },
        "id": "vLwBYMQeg2JB",
        "outputId": "b5099079-dedc-426a-cd0c-db501462e17d"
      },
      "execution_count": 46,
      "outputs": [
        {
          "output_type": "execute_result",
          "data": {
            "text/plain": [
              "[('Cafe Coffee Day', np.float64(844.79)),\n",
              " ('Onesta', np.float64(600.0)),\n",
              " ('Just Bake', np.float64(400.0)),\n",
              " ('Empire Restaurant', np.float64(685.21)),\n",
              " ('Five Star Chicken', np.float64(257.86)),\n",
              " ('Kanti Sweets', np.float64(400.0)),\n",
              " ('Petoo', np.float64(659.85)),\n",
              " ('Polar Bear', np.float64(361.54)),\n",
              " ('Baskin Robbins', np.float64(251.56)),\n",
              " ('Pizza Hut', np.float64(736.29))]"
            ]
          },
          "metadata": {},
          "execution_count": 46
        }
      ]
    },
    {
      "cell_type": "code",
      "source": [
        "#Now will convert this to dataframe\n",
        "cost_df=pd.DataFrame(list(dict1.items()),columns=['Restaurant Name','Avg 2 people cost'])\n",
        "cost_df"
      ],
      "metadata": {
        "colab": {
          "base_uri": "https://localhost:8080/",
          "height": 362
        },
        "id": "zNk8ENVOg32H",
        "outputId": "d128ed74-c6d1-42bc-ea07-5d6ebfe574e3"
      },
      "execution_count": 47,
      "outputs": [
        {
          "output_type": "execute_result",
          "data": {
            "text/plain": [
              "     Restaurant Name  Avg 2 people cost\n",
              "0    Cafe Coffee Day             844.79\n",
              "1             Onesta             600.00\n",
              "2          Just Bake             400.00\n",
              "3  Empire Restaurant             685.21\n",
              "4  Five Star Chicken             257.86\n",
              "5       Kanti Sweets             400.00\n",
              "6              Petoo             659.85\n",
              "7         Polar Bear             361.54\n",
              "8     Baskin Robbins             251.56\n",
              "9          Pizza Hut             736.29"
            ],
            "text/html": [
              "\n",
              "  <div id=\"df-ec42b905-eb50-47f6-8e99-8aae15cb8662\" class=\"colab-df-container\">\n",
              "    <div>\n",
              "<style scoped>\n",
              "    .dataframe tbody tr th:only-of-type {\n",
              "        vertical-align: middle;\n",
              "    }\n",
              "\n",
              "    .dataframe tbody tr th {\n",
              "        vertical-align: top;\n",
              "    }\n",
              "\n",
              "    .dataframe thead th {\n",
              "        text-align: right;\n",
              "    }\n",
              "</style>\n",
              "<table border=\"1\" class=\"dataframe\">\n",
              "  <thead>\n",
              "    <tr style=\"text-align: right;\">\n",
              "      <th></th>\n",
              "      <th>Restaurant Name</th>\n",
              "      <th>Avg 2 people cost</th>\n",
              "    </tr>\n",
              "  </thead>\n",
              "  <tbody>\n",
              "    <tr>\n",
              "      <th>0</th>\n",
              "      <td>Cafe Coffee Day</td>\n",
              "      <td>844.79</td>\n",
              "    </tr>\n",
              "    <tr>\n",
              "      <th>1</th>\n",
              "      <td>Onesta</td>\n",
              "      <td>600.00</td>\n",
              "    </tr>\n",
              "    <tr>\n",
              "      <th>2</th>\n",
              "      <td>Just Bake</td>\n",
              "      <td>400.00</td>\n",
              "    </tr>\n",
              "    <tr>\n",
              "      <th>3</th>\n",
              "      <td>Empire Restaurant</td>\n",
              "      <td>685.21</td>\n",
              "    </tr>\n",
              "    <tr>\n",
              "      <th>4</th>\n",
              "      <td>Five Star Chicken</td>\n",
              "      <td>257.86</td>\n",
              "    </tr>\n",
              "    <tr>\n",
              "      <th>5</th>\n",
              "      <td>Kanti Sweets</td>\n",
              "      <td>400.00</td>\n",
              "    </tr>\n",
              "    <tr>\n",
              "      <th>6</th>\n",
              "      <td>Petoo</td>\n",
              "      <td>659.85</td>\n",
              "    </tr>\n",
              "    <tr>\n",
              "      <th>7</th>\n",
              "      <td>Polar Bear</td>\n",
              "      <td>361.54</td>\n",
              "    </tr>\n",
              "    <tr>\n",
              "      <th>8</th>\n",
              "      <td>Baskin Robbins</td>\n",
              "      <td>251.56</td>\n",
              "    </tr>\n",
              "    <tr>\n",
              "      <th>9</th>\n",
              "      <td>Pizza Hut</td>\n",
              "      <td>736.29</td>\n",
              "    </tr>\n",
              "  </tbody>\n",
              "</table>\n",
              "</div>\n",
              "    <div class=\"colab-df-buttons\">\n",
              "\n",
              "  <div class=\"colab-df-container\">\n",
              "    <button class=\"colab-df-convert\" onclick=\"convertToInteractive('df-ec42b905-eb50-47f6-8e99-8aae15cb8662')\"\n",
              "            title=\"Convert this dataframe to an interactive table.\"\n",
              "            style=\"display:none;\">\n",
              "\n",
              "  <svg xmlns=\"http://www.w3.org/2000/svg\" height=\"24px\" viewBox=\"0 -960 960 960\">\n",
              "    <path d=\"M120-120v-720h720v720H120Zm60-500h600v-160H180v160Zm220 220h160v-160H400v160Zm0 220h160v-160H400v160ZM180-400h160v-160H180v160Zm440 0h160v-160H620v160ZM180-180h160v-160H180v160Zm440 0h160v-160H620v160Z\"/>\n",
              "  </svg>\n",
              "    </button>\n",
              "\n",
              "  <style>\n",
              "    .colab-df-container {\n",
              "      display:flex;\n",
              "      gap: 12px;\n",
              "    }\n",
              "\n",
              "    .colab-df-convert {\n",
              "      background-color: #E8F0FE;\n",
              "      border: none;\n",
              "      border-radius: 50%;\n",
              "      cursor: pointer;\n",
              "      display: none;\n",
              "      fill: #1967D2;\n",
              "      height: 32px;\n",
              "      padding: 0 0 0 0;\n",
              "      width: 32px;\n",
              "    }\n",
              "\n",
              "    .colab-df-convert:hover {\n",
              "      background-color: #E2EBFA;\n",
              "      box-shadow: 0px 1px 2px rgba(60, 64, 67, 0.3), 0px 1px 3px 1px rgba(60, 64, 67, 0.15);\n",
              "      fill: #174EA6;\n",
              "    }\n",
              "\n",
              "    .colab-df-buttons div {\n",
              "      margin-bottom: 4px;\n",
              "    }\n",
              "\n",
              "    [theme=dark] .colab-df-convert {\n",
              "      background-color: #3B4455;\n",
              "      fill: #D2E3FC;\n",
              "    }\n",
              "\n",
              "    [theme=dark] .colab-df-convert:hover {\n",
              "      background-color: #434B5C;\n",
              "      box-shadow: 0px 1px 3px 1px rgba(0, 0, 0, 0.15);\n",
              "      filter: drop-shadow(0px 1px 2px rgba(0, 0, 0, 0.3));\n",
              "      fill: #FFFFFF;\n",
              "    }\n",
              "  </style>\n",
              "\n",
              "    <script>\n",
              "      const buttonEl =\n",
              "        document.querySelector('#df-ec42b905-eb50-47f6-8e99-8aae15cb8662 button.colab-df-convert');\n",
              "      buttonEl.style.display =\n",
              "        google.colab.kernel.accessAllowed ? 'block' : 'none';\n",
              "\n",
              "      async function convertToInteractive(key) {\n",
              "        const element = document.querySelector('#df-ec42b905-eb50-47f6-8e99-8aae15cb8662');\n",
              "        const dataTable =\n",
              "          await google.colab.kernel.invokeFunction('convertToInteractive',\n",
              "                                                    [key], {});\n",
              "        if (!dataTable) return;\n",
              "\n",
              "        const docLinkHtml = 'Like what you see? Visit the ' +\n",
              "          '<a target=\"_blank\" href=https://colab.research.google.com/notebooks/data_table.ipynb>data table notebook</a>'\n",
              "          + ' to learn more about interactive tables.';\n",
              "        element.innerHTML = '';\n",
              "        dataTable['output_type'] = 'display_data';\n",
              "        await google.colab.output.renderOutput(dataTable, element);\n",
              "        const docLink = document.createElement('div');\n",
              "        docLink.innerHTML = docLinkHtml;\n",
              "        element.appendChild(docLink);\n",
              "      }\n",
              "    </script>\n",
              "  </div>\n",
              "\n",
              "\n",
              "    <div id=\"df-161b6bfb-ea7f-4b92-8b56-f9e953ffd8f6\">\n",
              "      <button class=\"colab-df-quickchart\" onclick=\"quickchart('df-161b6bfb-ea7f-4b92-8b56-f9e953ffd8f6')\"\n",
              "                title=\"Suggest charts\"\n",
              "                style=\"display:none;\">\n",
              "\n",
              "<svg xmlns=\"http://www.w3.org/2000/svg\" height=\"24px\"viewBox=\"0 0 24 24\"\n",
              "     width=\"24px\">\n",
              "    <g>\n",
              "        <path d=\"M19 3H5c-1.1 0-2 .9-2 2v14c0 1.1.9 2 2 2h14c1.1 0 2-.9 2-2V5c0-1.1-.9-2-2-2zM9 17H7v-7h2v7zm4 0h-2V7h2v10zm4 0h-2v-4h2v4z\"/>\n",
              "    </g>\n",
              "</svg>\n",
              "      </button>\n",
              "\n",
              "<style>\n",
              "  .colab-df-quickchart {\n",
              "      --bg-color: #E8F0FE;\n",
              "      --fill-color: #1967D2;\n",
              "      --hover-bg-color: #E2EBFA;\n",
              "      --hover-fill-color: #174EA6;\n",
              "      --disabled-fill-color: #AAA;\n",
              "      --disabled-bg-color: #DDD;\n",
              "  }\n",
              "\n",
              "  [theme=dark] .colab-df-quickchart {\n",
              "      --bg-color: #3B4455;\n",
              "      --fill-color: #D2E3FC;\n",
              "      --hover-bg-color: #434B5C;\n",
              "      --hover-fill-color: #FFFFFF;\n",
              "      --disabled-bg-color: #3B4455;\n",
              "      --disabled-fill-color: #666;\n",
              "  }\n",
              "\n",
              "  .colab-df-quickchart {\n",
              "    background-color: var(--bg-color);\n",
              "    border: none;\n",
              "    border-radius: 50%;\n",
              "    cursor: pointer;\n",
              "    display: none;\n",
              "    fill: var(--fill-color);\n",
              "    height: 32px;\n",
              "    padding: 0;\n",
              "    width: 32px;\n",
              "  }\n",
              "\n",
              "  .colab-df-quickchart:hover {\n",
              "    background-color: var(--hover-bg-color);\n",
              "    box-shadow: 0 1px 2px rgba(60, 64, 67, 0.3), 0 1px 3px 1px rgba(60, 64, 67, 0.15);\n",
              "    fill: var(--button-hover-fill-color);\n",
              "  }\n",
              "\n",
              "  .colab-df-quickchart-complete:disabled,\n",
              "  .colab-df-quickchart-complete:disabled:hover {\n",
              "    background-color: var(--disabled-bg-color);\n",
              "    fill: var(--disabled-fill-color);\n",
              "    box-shadow: none;\n",
              "  }\n",
              "\n",
              "  .colab-df-spinner {\n",
              "    border: 2px solid var(--fill-color);\n",
              "    border-color: transparent;\n",
              "    border-bottom-color: var(--fill-color);\n",
              "    animation:\n",
              "      spin 1s steps(1) infinite;\n",
              "  }\n",
              "\n",
              "  @keyframes spin {\n",
              "    0% {\n",
              "      border-color: transparent;\n",
              "      border-bottom-color: var(--fill-color);\n",
              "      border-left-color: var(--fill-color);\n",
              "    }\n",
              "    20% {\n",
              "      border-color: transparent;\n",
              "      border-left-color: var(--fill-color);\n",
              "      border-top-color: var(--fill-color);\n",
              "    }\n",
              "    30% {\n",
              "      border-color: transparent;\n",
              "      border-left-color: var(--fill-color);\n",
              "      border-top-color: var(--fill-color);\n",
              "      border-right-color: var(--fill-color);\n",
              "    }\n",
              "    40% {\n",
              "      border-color: transparent;\n",
              "      border-right-color: var(--fill-color);\n",
              "      border-top-color: var(--fill-color);\n",
              "    }\n",
              "    60% {\n",
              "      border-color: transparent;\n",
              "      border-right-color: var(--fill-color);\n",
              "    }\n",
              "    80% {\n",
              "      border-color: transparent;\n",
              "      border-right-color: var(--fill-color);\n",
              "      border-bottom-color: var(--fill-color);\n",
              "    }\n",
              "    90% {\n",
              "      border-color: transparent;\n",
              "      border-bottom-color: var(--fill-color);\n",
              "    }\n",
              "  }\n",
              "</style>\n",
              "\n",
              "      <script>\n",
              "        async function quickchart(key) {\n",
              "          const quickchartButtonEl =\n",
              "            document.querySelector('#' + key + ' button');\n",
              "          quickchartButtonEl.disabled = true;  // To prevent multiple clicks.\n",
              "          quickchartButtonEl.classList.add('colab-df-spinner');\n",
              "          try {\n",
              "            const charts = await google.colab.kernel.invokeFunction(\n",
              "                'suggestCharts', [key], {});\n",
              "          } catch (error) {\n",
              "            console.error('Error during call to suggestCharts:', error);\n",
              "          }\n",
              "          quickchartButtonEl.classList.remove('colab-df-spinner');\n",
              "          quickchartButtonEl.classList.add('colab-df-quickchart-complete');\n",
              "        }\n",
              "        (() => {\n",
              "          let quickchartButtonEl =\n",
              "            document.querySelector('#df-161b6bfb-ea7f-4b92-8b56-f9e953ffd8f6 button');\n",
              "          quickchartButtonEl.style.display =\n",
              "            google.colab.kernel.accessAllowed ? 'block' : 'none';\n",
              "        })();\n",
              "      </script>\n",
              "    </div>\n",
              "\n",
              "  <div id=\"id_4a579157-a1c9-4ef1-a451-20d8727b4912\">\n",
              "    <style>\n",
              "      .colab-df-generate {\n",
              "        background-color: #E8F0FE;\n",
              "        border: none;\n",
              "        border-radius: 50%;\n",
              "        cursor: pointer;\n",
              "        display: none;\n",
              "        fill: #1967D2;\n",
              "        height: 32px;\n",
              "        padding: 0 0 0 0;\n",
              "        width: 32px;\n",
              "      }\n",
              "\n",
              "      .colab-df-generate:hover {\n",
              "        background-color: #E2EBFA;\n",
              "        box-shadow: 0px 1px 2px rgba(60, 64, 67, 0.3), 0px 1px 3px 1px rgba(60, 64, 67, 0.15);\n",
              "        fill: #174EA6;\n",
              "      }\n",
              "\n",
              "      [theme=dark] .colab-df-generate {\n",
              "        background-color: #3B4455;\n",
              "        fill: #D2E3FC;\n",
              "      }\n",
              "\n",
              "      [theme=dark] .colab-df-generate:hover {\n",
              "        background-color: #434B5C;\n",
              "        box-shadow: 0px 1px 3px 1px rgba(0, 0, 0, 0.15);\n",
              "        filter: drop-shadow(0px 1px 2px rgba(0, 0, 0, 0.3));\n",
              "        fill: #FFFFFF;\n",
              "      }\n",
              "    </style>\n",
              "    <button class=\"colab-df-generate\" onclick=\"generateWithVariable('cost_df')\"\n",
              "            title=\"Generate code using this dataframe.\"\n",
              "            style=\"display:none;\">\n",
              "\n",
              "  <svg xmlns=\"http://www.w3.org/2000/svg\" height=\"24px\"viewBox=\"0 0 24 24\"\n",
              "       width=\"24px\">\n",
              "    <path d=\"M7,19H8.4L18.45,9,17,7.55,7,17.6ZM5,21V16.75L18.45,3.32a2,2,0,0,1,2.83,0l1.4,1.43a1.91,1.91,0,0,1,.58,1.4,1.91,1.91,0,0,1-.58,1.4L9.25,21ZM18.45,9,17,7.55Zm-12,3A5.31,5.31,0,0,0,4.9,8.1,5.31,5.31,0,0,0,1,6.5,5.31,5.31,0,0,0,4.9,4.9,5.31,5.31,0,0,0,6.5,1,5.31,5.31,0,0,0,8.1,4.9,5.31,5.31,0,0,0,12,6.5,5.46,5.46,0,0,0,6.5,12Z\"/>\n",
              "  </svg>\n",
              "    </button>\n",
              "    <script>\n",
              "      (() => {\n",
              "      const buttonEl =\n",
              "        document.querySelector('#id_4a579157-a1c9-4ef1-a451-20d8727b4912 button.colab-df-generate');\n",
              "      buttonEl.style.display =\n",
              "        google.colab.kernel.accessAllowed ? 'block' : 'none';\n",
              "\n",
              "      buttonEl.onclick = () => {\n",
              "        google.colab.notebook.generateWithVariable('cost_df');\n",
              "      }\n",
              "      })();\n",
              "    </script>\n",
              "  </div>\n",
              "\n",
              "    </div>\n",
              "  </div>\n"
            ],
            "application/vnd.google.colaboratory.intrinsic+json": {
              "type": "dataframe",
              "variable_name": "cost_df",
              "summary": "{\n  \"name\": \"cost_df\",\n  \"rows\": 10,\n  \"fields\": [\n    {\n      \"column\": \"Restaurant Name\",\n      \"properties\": {\n        \"dtype\": \"string\",\n        \"num_unique_values\": 10,\n        \"samples\": [\n          \"Baskin Robbins\",\n          \"Onesta\",\n          \"Kanti Sweets\"\n        ],\n        \"semantic_type\": \"\",\n        \"description\": \"\"\n      }\n    },\n    {\n      \"column\": \"Avg 2 people cost\",\n      \"properties\": {\n        \"dtype\": \"number\",\n        \"std\": 210.87342664894186,\n        \"min\": 251.56,\n        \"max\": 844.79,\n        \"num_unique_values\": 9,\n        \"samples\": [\n          251.56,\n          600.0,\n          659.85\n        ],\n        \"semantic_type\": \"\",\n        \"description\": \"\"\n      }\n    }\n  ]\n}"
            }
          },
          "metadata": {},
          "execution_count": 47
        }
      ]
    },
    {
      "cell_type": "code",
      "source": [
        "#Now ploting the bar graph using seaborn\n",
        "sns.barplot(data=cost_df.sort_values(by=['Avg 2 people cost'],ascending=False),\n",
        "            x='Avg 2 people cost',y='Restaurant Name')\n",
        "plt.title('Avg cost for 2 people-Top 10 restaurants')\n"
      ],
      "metadata": {
        "colab": {
          "base_uri": "https://localhost:8080/",
          "height": 490
        },
        "id": "Pttqhc4Fhn1e",
        "outputId": "cb16533e-9293-4388-e45d-57db6f202961"
      },
      "execution_count": 48,
      "outputs": [
        {
          "output_type": "execute_result",
          "data": {
            "text/plain": [
              "Text(0.5, 1.0, 'Avg cost for 2 people-Top 10 restaurants')"
            ]
          },
          "metadata": {},
          "execution_count": 48
        },
        {
          "output_type": "display_data",
          "data": {
            "text/plain": [
              "<Figure size 640x480 with 1 Axes>"
            ],
            "image/png": "[encoded data removed]"
          },
          "metadata": {}
        }
      ]
    },
    {
      "cell_type": "code",
      "source": [
        "#Now doing the same for average ratings"
      ],
      "metadata": {
        "id": "pYZh5ZQ-hoBy"
      },
      "execution_count": 49,
      "outputs": []
    },
    {
      "cell_type": "code",
      "source": [
        "res_chain=df['rate'].groupby(df['name'],sort=True)\n",
        "dict2={}\n",
        "for i ,j in df['name'].value_counts()[:10].to_dict().items():\n",
        "  dict2[i]=np.round(res_chain.get_group(i).mean(),2)\n",
        "cost_df2=pd.DataFrame(list(dict2.items()),columns=['Restaurant Name','Ratings'])"
      ],
      "metadata": {
        "id": "lAosw6dThoEF"
      },
      "execution_count": 50,
      "outputs": []
    },
    {
      "cell_type": "code",
      "source": [
        "sns.barplot(data=cost_df2.sort_values(by=['Ratings'],ascending=False),\n",
        "            x='Ratings',y='Restaurant Name')\n",
        "plt.title('Avg Ratings -Top 10 restaurants')"
      ],
      "metadata": {
        "colab": {
          "base_uri": "https://localhost:8080/",
          "height": 490
        },
        "id": "GvoHG4jAhoGY",
        "outputId": "05d3d36c-7ab6-4180-ce21-ed943c99840d"
      },
      "execution_count": 51,
      "outputs": [
        {
          "output_type": "execute_result",
          "data": {
            "text/plain": [
              "Text(0.5, 1.0, 'Avg Ratings -Top 10 restaurants')"
            ]
          },
          "metadata": {},
          "execution_count": 51
        },
        {
          "output_type": "display_data",
          "data": {
            "text/plain": [
              "<Figure size 640x480 with 1 Axes>"
            ],
            "image/png": "[encoded data removed]"
          },
          "metadata": {}
        }
      ]
    },
    {
      "cell_type": "code",
      "source": [
        "df['name'].value_counts()[:10] #slices the first 10 rows"
      ],
      "metadata": {
        "colab": {
          "base_uri": "https://localhost:8080/",
          "height": 428
        },
        "id": "EkDBV-eHdWh5",
        "outputId": "072f483c-fb14-4fac-dcd0-0b0149c7d20c"
      },
      "execution_count": 52,
      "outputs": [
        {
          "output_type": "execute_result",
          "data": {
            "text/plain": [
              "name\n",
              "Cafe Coffee Day      96\n",
              "Onesta               85\n",
              "Just Bake            73\n",
              "Empire Restaurant    71\n",
              "Five Star Chicken    70\n",
              "Kanti Sweets         68\n",
              "Petoo                66\n",
              "Polar Bear           65\n",
              "Baskin Robbins       64\n",
              "Pizza Hut            62\n",
              "Name: count, dtype: int64"
            ],
            "text/html": [
              "<div>\n",
              "<style scoped>\n",
              "    .dataframe tbody tr th:only-of-type {\n",
              "        vertical-align: middle;\n",
              "    }\n",
              "\n",
              "    .dataframe tbody tr th {\n",
              "        vertical-align: top;\n",
              "    }\n",
              "\n",
              "    .dataframe thead th {\n",
              "        text-align: right;\n",
              "    }\n",
              "</style>\n",
              "<table border=\"1\" class=\"dataframe\">\n",
              "  <thead>\n",
              "    <tr style=\"text-align: right;\">\n",
              "      <th></th>\n",
              "      <th>count</th>\n",
              "    </tr>\n",
              "    <tr>\n",
              "      <th>name</th>\n",
              "      <th></th>\n",
              "    </tr>\n",
              "  </thead>\n",
              "  <tbody>\n",
              "    <tr>\n",
              "      <th>Cafe Coffee Day</th>\n",
              "      <td>96</td>\n",
              "    </tr>\n",
              "    <tr>\n",
              "      <th>Onesta</th>\n",
              "      <td>85</td>\n",
              "    </tr>\n",
              "    <tr>\n",
              "      <th>Just Bake</th>\n",
              "      <td>73</td>\n",
              "    </tr>\n",
              "    <tr>\n",
              "      <th>Empire Restaurant</th>\n",
              "      <td>71</td>\n",
              "    </tr>\n",
              "    <tr>\n",
              "      <th>Five Star Chicken</th>\n",
              "      <td>70</td>\n",
              "    </tr>\n",
              "    <tr>\n",
              "      <th>Kanti Sweets</th>\n",
              "      <td>68</td>\n",
              "    </tr>\n",
              "    <tr>\n",
              "      <th>Petoo</th>\n",
              "      <td>66</td>\n",
              "    </tr>\n",
              "    <tr>\n",
              "      <th>Polar Bear</th>\n",
              "      <td>65</td>\n",
              "    </tr>\n",
              "    <tr>\n",
              "      <th>Baskin Robbins</th>\n",
              "      <td>64</td>\n",
              "    </tr>\n",
              "    <tr>\n",
              "      <th>Pizza Hut</th>\n",
              "      <td>62</td>\n",
              "    </tr>\n",
              "  </tbody>\n",
              "</table>\n",
              "</div><br><label><b>dtype:</b> int64</label>"
            ]
          },
          "metadata": {},
          "execution_count": 52
        }
      ]
    },
    {
      "cell_type": "code",
      "source": [
        "df['name'].value_counts()[:10].to_dict().items()"
      ],
      "metadata": {
        "colab": {
          "base_uri": "https://localhost:8080/"
        },
        "id": "w73NHtmZdX7K",
        "outputId": "8985260a-24cc-49a3-b841-82d8247b41ab"
      },
      "execution_count": 53,
      "outputs": [
        {
          "output_type": "execute_result",
          "data": {
            "text/plain": [
              "dict_items([('Cafe Coffee Day', 96), ('Onesta', 85), ('Just Bake', 73), ('Empire Restaurant', 71), ('Five Star Chicken', 70), ('Kanti Sweets', 68), ('Petoo', 66), ('Polar Bear', 65), ('Baskin Robbins', 64), ('Pizza Hut', 62)])"
            ]
          },
          "metadata": {},
          "execution_count": 53
        }
      ]
    },
    {
      "cell_type": "code",
      "source": [
        "res_cost.get_group('Cafe Coffee Day')# here , we have 96 rows for CCD and now we will find the mean to know the approx-cost for 2 people"
      ],
      "metadata": {
        "colab": {
          "base_uri": "https://localhost:8080/",
          "height": 458
        },
        "id": "h2ZBT6P8eKpy",
        "outputId": "9346310a-233a-4beb-fc2e-dfc3ab2db363"
      },
      "execution_count": 54,
      "outputs": [
        {
          "output_type": "execute_result",
          "data": {
            "text/plain": [
              "22       900.0\n",
              "254      900.0\n",
              "625      900.0\n",
              "889      900.0\n",
              "1186     900.0\n",
              "         ...  \n",
              "49691    900.0\n",
              "50119    650.0\n",
              "50282    650.0\n",
              "51004    900.0\n",
              "51191    650.0\n",
              "Name: approx_cost(for two people), Length: 96, dtype: float64"
            ],
            "text/html": [
              "<div>\n",
              "<style scoped>\n",
              "    .dataframe tbody tr th:only-of-type {\n",
              "        vertical-align: middle;\n",
              "    }\n",
              "\n",
              "    .dataframe tbody tr th {\n",
              "        vertical-align: top;\n",
              "    }\n",
              "\n",
              "    .dataframe thead th {\n",
              "        text-align: right;\n",
              "    }\n",
              "</style>\n",
              "<table border=\"1\" class=\"dataframe\">\n",
              "  <thead>\n",
              "    <tr style=\"text-align: right;\">\n",
              "      <th></th>\n",
              "      <th>approx_cost(for two people)</th>\n",
              "    </tr>\n",
              "  </thead>\n",
              "  <tbody>\n",
              "    <tr>\n",
              "      <th>22</th>\n",
              "      <td>900.0</td>\n",
              "    </tr>\n",
              "    <tr>\n",
              "      <th>254</th>\n",
              "      <td>900.0</td>\n",
              "    </tr>\n",
              "    <tr>\n",
              "      <th>625</th>\n",
              "      <td>900.0</td>\n",
              "    </tr>\n",
              "    <tr>\n",
              "      <th>889</th>\n",
              "      <td>900.0</td>\n",
              "    </tr>\n",
              "    <tr>\n",
              "      <th>1186</th>\n",
              "      <td>900.0</td>\n",
              "    </tr>\n",
              "    <tr>\n",
              "      <th>...</th>\n",
              "      <td>...</td>\n",
              "    </tr>\n",
              "    <tr>\n",
              "      <th>49691</th>\n",
              "      <td>900.0</td>\n",
              "    </tr>\n",
              "    <tr>\n",
              "      <th>50119</th>\n",
              "      <td>650.0</td>\n",
              "    </tr>\n",
              "    <tr>\n",
              "      <th>50282</th>\n",
              "      <td>650.0</td>\n",
              "    </tr>\n",
              "    <tr>\n",
              "      <th>51004</th>\n",
              "      <td>900.0</td>\n",
              "    </tr>\n",
              "    <tr>\n",
              "      <th>51191</th>\n",
              "      <td>650.0</td>\n",
              "    </tr>\n",
              "  </tbody>\n",
              "</table>\n",
              "<p>96 rows × 1 columns</p>\n",
              "</div><br><label><b>dtype:</b> float64</label>"
            ]
          },
          "metadata": {},
          "execution_count": 54
        }
      ]
    },
    {
      "cell_type": "code",
      "source": [
        "res_cost.get_group('Cafe Coffee Day').mean()"
      ],
      "metadata": {
        "colab": {
          "base_uri": "https://localhost:8080/"
        },
        "id": "at8_Y_i3e75S",
        "outputId": "2cffbfe6-bacc-44a7-f0ca-ec545635e13c"
      },
      "execution_count": 55,
      "outputs": [
        {
          "output_type": "execute_result",
          "data": {
            "text/plain": [
              "np.float64(844.7916666666666)"
            ]
          },
          "metadata": {},
          "execution_count": 55
        }
      ]
    },
    {
      "cell_type": "code",
      "source": [
        "\n"
      ],
      "metadata": {
        "id": "Lb7NfktbfjMp"
      },
      "execution_count": 55,
      "outputs": []
    }
  ]
}